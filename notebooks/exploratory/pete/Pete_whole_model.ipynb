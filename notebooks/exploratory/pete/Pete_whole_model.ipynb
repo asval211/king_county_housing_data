{
 "cells": [
  {
   "cell_type": "code",
   "execution_count": 183,
   "metadata": {},
   "outputs": [],
   "source": [
    "import numpy as np\n",
    "import pandas as pd\n",
    "from pandas.plotting import scatter_matrix\n",
    "from sklearn.preprocessing import RobustScaler\n",
    "from sklearn.model_selection import train_test_split\n",
    "from sklearn.metrics import mean_squared_error\n",
    "from sklearn.preprocessing import PolynomialFeatures\n",
    "from sklearn.linear_model import LinearRegression\n",
    "import matplotlib.pyplot as plt\n",
    "from sklearn.metrics import r2_score\n",
    "%matplotlib inline\n",
    "import seaborn as sns\n",
    "import statsmodels.api as sm\n",
    "from statsmodels.formula.api import ols\n",
    "from yellowbrick.regressor import ResidualsPlot\n",
    "from yellowbrick.style.palettes import PALETTES, SEQUENCES, color_palette"
   ]
  },
  {
   "cell_type": "code",
   "execution_count": 2,
   "metadata": {},
   "outputs": [],
   "source": [
    "df = pd.read_csv('../../../data/kc_house_data.csv')"
   ]
  },
  {
   "cell_type": "code",
   "execution_count": 3,
   "metadata": {},
   "outputs": [
    {
     "data": {
      "text/html": [
       "<div>\n",
       "<style scoped>\n",
       "    .dataframe tbody tr th:only-of-type {\n",
       "        vertical-align: middle;\n",
       "    }\n",
       "\n",
       "    .dataframe tbody tr th {\n",
       "        vertical-align: top;\n",
       "    }\n",
       "\n",
       "    .dataframe thead th {\n",
       "        text-align: right;\n",
       "    }\n",
       "</style>\n",
       "<table border=\"1\" class=\"dataframe\">\n",
       "  <thead>\n",
       "    <tr style=\"text-align: right;\">\n",
       "      <th></th>\n",
       "      <th>id</th>\n",
       "      <th>date</th>\n",
       "      <th>price</th>\n",
       "      <th>bedrooms</th>\n",
       "      <th>bathrooms</th>\n",
       "      <th>sqft_living</th>\n",
       "      <th>sqft_lot</th>\n",
       "      <th>floors</th>\n",
       "      <th>waterfront</th>\n",
       "      <th>view</th>\n",
       "      <th>...</th>\n",
       "      <th>grade</th>\n",
       "      <th>sqft_above</th>\n",
       "      <th>sqft_basement</th>\n",
       "      <th>yr_built</th>\n",
       "      <th>yr_renovated</th>\n",
       "      <th>zipcode</th>\n",
       "      <th>lat</th>\n",
       "      <th>long</th>\n",
       "      <th>sqft_living15</th>\n",
       "      <th>sqft_lot15</th>\n",
       "    </tr>\n",
       "  </thead>\n",
       "  <tbody>\n",
       "    <tr>\n",
       "      <th>0</th>\n",
       "      <td>7129300520</td>\n",
       "      <td>10/13/2014</td>\n",
       "      <td>221900.0</td>\n",
       "      <td>3</td>\n",
       "      <td>1.00</td>\n",
       "      <td>1180</td>\n",
       "      <td>5650</td>\n",
       "      <td>1.0</td>\n",
       "      <td>NaN</td>\n",
       "      <td>0.0</td>\n",
       "      <td>...</td>\n",
       "      <td>7</td>\n",
       "      <td>1180</td>\n",
       "      <td>0.0</td>\n",
       "      <td>1955</td>\n",
       "      <td>0.0</td>\n",
       "      <td>98178</td>\n",
       "      <td>47.5112</td>\n",
       "      <td>-122.257</td>\n",
       "      <td>1340</td>\n",
       "      <td>5650</td>\n",
       "    </tr>\n",
       "    <tr>\n",
       "      <th>1</th>\n",
       "      <td>6414100192</td>\n",
       "      <td>12/9/2014</td>\n",
       "      <td>538000.0</td>\n",
       "      <td>3</td>\n",
       "      <td>2.25</td>\n",
       "      <td>2570</td>\n",
       "      <td>7242</td>\n",
       "      <td>2.0</td>\n",
       "      <td>0.0</td>\n",
       "      <td>0.0</td>\n",
       "      <td>...</td>\n",
       "      <td>7</td>\n",
       "      <td>2170</td>\n",
       "      <td>400.0</td>\n",
       "      <td>1951</td>\n",
       "      <td>1991.0</td>\n",
       "      <td>98125</td>\n",
       "      <td>47.7210</td>\n",
       "      <td>-122.319</td>\n",
       "      <td>1690</td>\n",
       "      <td>7639</td>\n",
       "    </tr>\n",
       "    <tr>\n",
       "      <th>2</th>\n",
       "      <td>5631500400</td>\n",
       "      <td>2/25/2015</td>\n",
       "      <td>180000.0</td>\n",
       "      <td>2</td>\n",
       "      <td>1.00</td>\n",
       "      <td>770</td>\n",
       "      <td>10000</td>\n",
       "      <td>1.0</td>\n",
       "      <td>0.0</td>\n",
       "      <td>0.0</td>\n",
       "      <td>...</td>\n",
       "      <td>6</td>\n",
       "      <td>770</td>\n",
       "      <td>0.0</td>\n",
       "      <td>1933</td>\n",
       "      <td>NaN</td>\n",
       "      <td>98028</td>\n",
       "      <td>47.7379</td>\n",
       "      <td>-122.233</td>\n",
       "      <td>2720</td>\n",
       "      <td>8062</td>\n",
       "    </tr>\n",
       "    <tr>\n",
       "      <th>3</th>\n",
       "      <td>2487200875</td>\n",
       "      <td>12/9/2014</td>\n",
       "      <td>604000.0</td>\n",
       "      <td>4</td>\n",
       "      <td>3.00</td>\n",
       "      <td>1960</td>\n",
       "      <td>5000</td>\n",
       "      <td>1.0</td>\n",
       "      <td>0.0</td>\n",
       "      <td>0.0</td>\n",
       "      <td>...</td>\n",
       "      <td>7</td>\n",
       "      <td>1050</td>\n",
       "      <td>910.0</td>\n",
       "      <td>1965</td>\n",
       "      <td>0.0</td>\n",
       "      <td>98136</td>\n",
       "      <td>47.5208</td>\n",
       "      <td>-122.393</td>\n",
       "      <td>1360</td>\n",
       "      <td>5000</td>\n",
       "    </tr>\n",
       "    <tr>\n",
       "      <th>4</th>\n",
       "      <td>1954400510</td>\n",
       "      <td>2/18/2015</td>\n",
       "      <td>510000.0</td>\n",
       "      <td>3</td>\n",
       "      <td>2.00</td>\n",
       "      <td>1680</td>\n",
       "      <td>8080</td>\n",
       "      <td>1.0</td>\n",
       "      <td>0.0</td>\n",
       "      <td>0.0</td>\n",
       "      <td>...</td>\n",
       "      <td>8</td>\n",
       "      <td>1680</td>\n",
       "      <td>0.0</td>\n",
       "      <td>1987</td>\n",
       "      <td>0.0</td>\n",
       "      <td>98074</td>\n",
       "      <td>47.6168</td>\n",
       "      <td>-122.045</td>\n",
       "      <td>1800</td>\n",
       "      <td>7503</td>\n",
       "    </tr>\n",
       "    <tr>\n",
       "      <th>...</th>\n",
       "      <td>...</td>\n",
       "      <td>...</td>\n",
       "      <td>...</td>\n",
       "      <td>...</td>\n",
       "      <td>...</td>\n",
       "      <td>...</td>\n",
       "      <td>...</td>\n",
       "      <td>...</td>\n",
       "      <td>...</td>\n",
       "      <td>...</td>\n",
       "      <td>...</td>\n",
       "      <td>...</td>\n",
       "      <td>...</td>\n",
       "      <td>...</td>\n",
       "      <td>...</td>\n",
       "      <td>...</td>\n",
       "      <td>...</td>\n",
       "      <td>...</td>\n",
       "      <td>...</td>\n",
       "      <td>...</td>\n",
       "      <td>...</td>\n",
       "    </tr>\n",
       "    <tr>\n",
       "      <th>21592</th>\n",
       "      <td>263000018</td>\n",
       "      <td>5/21/2014</td>\n",
       "      <td>360000.0</td>\n",
       "      <td>3</td>\n",
       "      <td>2.50</td>\n",
       "      <td>1530</td>\n",
       "      <td>1131</td>\n",
       "      <td>3.0</td>\n",
       "      <td>0.0</td>\n",
       "      <td>0.0</td>\n",
       "      <td>...</td>\n",
       "      <td>8</td>\n",
       "      <td>1530</td>\n",
       "      <td>0.0</td>\n",
       "      <td>2009</td>\n",
       "      <td>0.0</td>\n",
       "      <td>98103</td>\n",
       "      <td>47.6993</td>\n",
       "      <td>-122.346</td>\n",
       "      <td>1530</td>\n",
       "      <td>1509</td>\n",
       "    </tr>\n",
       "    <tr>\n",
       "      <th>21593</th>\n",
       "      <td>6600060120</td>\n",
       "      <td>2/23/2015</td>\n",
       "      <td>400000.0</td>\n",
       "      <td>4</td>\n",
       "      <td>2.50</td>\n",
       "      <td>2310</td>\n",
       "      <td>5813</td>\n",
       "      <td>2.0</td>\n",
       "      <td>0.0</td>\n",
       "      <td>0.0</td>\n",
       "      <td>...</td>\n",
       "      <td>8</td>\n",
       "      <td>2310</td>\n",
       "      <td>0.0</td>\n",
       "      <td>2014</td>\n",
       "      <td>0.0</td>\n",
       "      <td>98146</td>\n",
       "      <td>47.5107</td>\n",
       "      <td>-122.362</td>\n",
       "      <td>1830</td>\n",
       "      <td>7200</td>\n",
       "    </tr>\n",
       "    <tr>\n",
       "      <th>21594</th>\n",
       "      <td>1523300141</td>\n",
       "      <td>6/23/2014</td>\n",
       "      <td>402101.0</td>\n",
       "      <td>2</td>\n",
       "      <td>0.75</td>\n",
       "      <td>1020</td>\n",
       "      <td>1350</td>\n",
       "      <td>2.0</td>\n",
       "      <td>0.0</td>\n",
       "      <td>0.0</td>\n",
       "      <td>...</td>\n",
       "      <td>7</td>\n",
       "      <td>1020</td>\n",
       "      <td>0.0</td>\n",
       "      <td>2009</td>\n",
       "      <td>0.0</td>\n",
       "      <td>98144</td>\n",
       "      <td>47.5944</td>\n",
       "      <td>-122.299</td>\n",
       "      <td>1020</td>\n",
       "      <td>2007</td>\n",
       "    </tr>\n",
       "    <tr>\n",
       "      <th>21595</th>\n",
       "      <td>291310100</td>\n",
       "      <td>1/16/2015</td>\n",
       "      <td>400000.0</td>\n",
       "      <td>3</td>\n",
       "      <td>2.50</td>\n",
       "      <td>1600</td>\n",
       "      <td>2388</td>\n",
       "      <td>2.0</td>\n",
       "      <td>NaN</td>\n",
       "      <td>0.0</td>\n",
       "      <td>...</td>\n",
       "      <td>8</td>\n",
       "      <td>1600</td>\n",
       "      <td>0.0</td>\n",
       "      <td>2004</td>\n",
       "      <td>0.0</td>\n",
       "      <td>98027</td>\n",
       "      <td>47.5345</td>\n",
       "      <td>-122.069</td>\n",
       "      <td>1410</td>\n",
       "      <td>1287</td>\n",
       "    </tr>\n",
       "    <tr>\n",
       "      <th>21596</th>\n",
       "      <td>1523300157</td>\n",
       "      <td>10/15/2014</td>\n",
       "      <td>325000.0</td>\n",
       "      <td>2</td>\n",
       "      <td>0.75</td>\n",
       "      <td>1020</td>\n",
       "      <td>1076</td>\n",
       "      <td>2.0</td>\n",
       "      <td>0.0</td>\n",
       "      <td>0.0</td>\n",
       "      <td>...</td>\n",
       "      <td>7</td>\n",
       "      <td>1020</td>\n",
       "      <td>0.0</td>\n",
       "      <td>2008</td>\n",
       "      <td>0.0</td>\n",
       "      <td>98144</td>\n",
       "      <td>47.5941</td>\n",
       "      <td>-122.299</td>\n",
       "      <td>1020</td>\n",
       "      <td>1357</td>\n",
       "    </tr>\n",
       "  </tbody>\n",
       "</table>\n",
       "<p>21597 rows × 21 columns</p>\n",
       "</div>"
      ],
      "text/plain": [
       "               id        date     price  bedrooms  bathrooms  sqft_living  \\\n",
       "0      7129300520  10/13/2014  221900.0         3       1.00         1180   \n",
       "1      6414100192   12/9/2014  538000.0         3       2.25         2570   \n",
       "2      5631500400   2/25/2015  180000.0         2       1.00          770   \n",
       "3      2487200875   12/9/2014  604000.0         4       3.00         1960   \n",
       "4      1954400510   2/18/2015  510000.0         3       2.00         1680   \n",
       "...           ...         ...       ...       ...        ...          ...   \n",
       "21592   263000018   5/21/2014  360000.0         3       2.50         1530   \n",
       "21593  6600060120   2/23/2015  400000.0         4       2.50         2310   \n",
       "21594  1523300141   6/23/2014  402101.0         2       0.75         1020   \n",
       "21595   291310100   1/16/2015  400000.0         3       2.50         1600   \n",
       "21596  1523300157  10/15/2014  325000.0         2       0.75         1020   \n",
       "\n",
       "       sqft_lot  floors  waterfront  view  ...  grade  sqft_above  \\\n",
       "0          5650     1.0         NaN   0.0  ...      7        1180   \n",
       "1          7242     2.0         0.0   0.0  ...      7        2170   \n",
       "2         10000     1.0         0.0   0.0  ...      6         770   \n",
       "3          5000     1.0         0.0   0.0  ...      7        1050   \n",
       "4          8080     1.0         0.0   0.0  ...      8        1680   \n",
       "...         ...     ...         ...   ...  ...    ...         ...   \n",
       "21592      1131     3.0         0.0   0.0  ...      8        1530   \n",
       "21593      5813     2.0         0.0   0.0  ...      8        2310   \n",
       "21594      1350     2.0         0.0   0.0  ...      7        1020   \n",
       "21595      2388     2.0         NaN   0.0  ...      8        1600   \n",
       "21596      1076     2.0         0.0   0.0  ...      7        1020   \n",
       "\n",
       "       sqft_basement yr_built  yr_renovated  zipcode      lat     long  \\\n",
       "0                0.0     1955           0.0    98178  47.5112 -122.257   \n",
       "1              400.0     1951        1991.0    98125  47.7210 -122.319   \n",
       "2                0.0     1933           NaN    98028  47.7379 -122.233   \n",
       "3              910.0     1965           0.0    98136  47.5208 -122.393   \n",
       "4                0.0     1987           0.0    98074  47.6168 -122.045   \n",
       "...              ...      ...           ...      ...      ...      ...   \n",
       "21592            0.0     2009           0.0    98103  47.6993 -122.346   \n",
       "21593            0.0     2014           0.0    98146  47.5107 -122.362   \n",
       "21594            0.0     2009           0.0    98144  47.5944 -122.299   \n",
       "21595            0.0     2004           0.0    98027  47.5345 -122.069   \n",
       "21596            0.0     2008           0.0    98144  47.5941 -122.299   \n",
       "\n",
       "       sqft_living15  sqft_lot15  \n",
       "0               1340        5650  \n",
       "1               1690        7639  \n",
       "2               2720        8062  \n",
       "3               1360        5000  \n",
       "4               1800        7503  \n",
       "...              ...         ...  \n",
       "21592           1530        1509  \n",
       "21593           1830        7200  \n",
       "21594           1020        2007  \n",
       "21595           1410        1287  \n",
       "21596           1020        1357  \n",
       "\n",
       "[21597 rows x 21 columns]"
      ]
     },
     "execution_count": 3,
     "metadata": {},
     "output_type": "execute_result"
    }
   ],
   "source": [
    "df"
   ]
  },
  {
   "cell_type": "markdown",
   "metadata": {},
   "source": [
    "### a bit more cleaning (note: most screening in Pete_housing notebook)"
   ]
  },
  {
   "cell_type": "code",
   "execution_count": 4,
   "metadata": {},
   "outputs": [
    {
     "data": {
      "text/html": [
       "<div>\n",
       "<style scoped>\n",
       "    .dataframe tbody tr th:only-of-type {\n",
       "        vertical-align: middle;\n",
       "    }\n",
       "\n",
       "    .dataframe tbody tr th {\n",
       "        vertical-align: top;\n",
       "    }\n",
       "\n",
       "    .dataframe thead th {\n",
       "        text-align: right;\n",
       "    }\n",
       "</style>\n",
       "<table border=\"1\" class=\"dataframe\">\n",
       "  <thead>\n",
       "    <tr style=\"text-align: right;\">\n",
       "      <th></th>\n",
       "      <th>id</th>\n",
       "      <th>date</th>\n",
       "      <th>price</th>\n",
       "      <th>bedrooms</th>\n",
       "      <th>bathrooms</th>\n",
       "      <th>sqft_living</th>\n",
       "      <th>sqft_lot</th>\n",
       "      <th>floors</th>\n",
       "      <th>waterfront</th>\n",
       "      <th>view</th>\n",
       "      <th>...</th>\n",
       "      <th>grade</th>\n",
       "      <th>sqft_above</th>\n",
       "      <th>sqft_basement</th>\n",
       "      <th>yr_built</th>\n",
       "      <th>yr_renovated</th>\n",
       "      <th>zipcode</th>\n",
       "      <th>lat</th>\n",
       "      <th>long</th>\n",
       "      <th>sqft_living15</th>\n",
       "      <th>sqft_lot15</th>\n",
       "    </tr>\n",
       "  </thead>\n",
       "  <tbody>\n",
       "    <tr>\n",
       "      <th>6</th>\n",
       "      <td>1321400060</td>\n",
       "      <td>6/27/2014</td>\n",
       "      <td>257500.0</td>\n",
       "      <td>3</td>\n",
       "      <td>2.25</td>\n",
       "      <td>1715</td>\n",
       "      <td>6819</td>\n",
       "      <td>2.0</td>\n",
       "      <td>0.0</td>\n",
       "      <td>0.0</td>\n",
       "      <td>...</td>\n",
       "      <td>7</td>\n",
       "      <td>1715</td>\n",
       "      <td>?</td>\n",
       "      <td>1995</td>\n",
       "      <td>0.0</td>\n",
       "      <td>98003</td>\n",
       "      <td>47.3097</td>\n",
       "      <td>-122.327</td>\n",
       "      <td>2238</td>\n",
       "      <td>6819</td>\n",
       "    </tr>\n",
       "    <tr>\n",
       "      <th>18</th>\n",
       "      <td>16000397</td>\n",
       "      <td>12/5/2014</td>\n",
       "      <td>189000.0</td>\n",
       "      <td>2</td>\n",
       "      <td>1.00</td>\n",
       "      <td>1200</td>\n",
       "      <td>9850</td>\n",
       "      <td>1.0</td>\n",
       "      <td>0.0</td>\n",
       "      <td>0.0</td>\n",
       "      <td>...</td>\n",
       "      <td>7</td>\n",
       "      <td>1200</td>\n",
       "      <td>?</td>\n",
       "      <td>1921</td>\n",
       "      <td>0.0</td>\n",
       "      <td>98002</td>\n",
       "      <td>47.3089</td>\n",
       "      <td>-122.210</td>\n",
       "      <td>1060</td>\n",
       "      <td>5095</td>\n",
       "    </tr>\n",
       "    <tr>\n",
       "      <th>42</th>\n",
       "      <td>7203220400</td>\n",
       "      <td>7/7/2014</td>\n",
       "      <td>861990.0</td>\n",
       "      <td>5</td>\n",
       "      <td>2.75</td>\n",
       "      <td>3595</td>\n",
       "      <td>5639</td>\n",
       "      <td>2.0</td>\n",
       "      <td>0.0</td>\n",
       "      <td>0.0</td>\n",
       "      <td>...</td>\n",
       "      <td>9</td>\n",
       "      <td>3595</td>\n",
       "      <td>?</td>\n",
       "      <td>2014</td>\n",
       "      <td>0.0</td>\n",
       "      <td>98053</td>\n",
       "      <td>47.6848</td>\n",
       "      <td>-122.016</td>\n",
       "      <td>3625</td>\n",
       "      <td>5639</td>\n",
       "    </tr>\n",
       "    <tr>\n",
       "      <th>79</th>\n",
       "      <td>1531000030</td>\n",
       "      <td>3/23/2015</td>\n",
       "      <td>720000.0</td>\n",
       "      <td>4</td>\n",
       "      <td>2.50</td>\n",
       "      <td>3450</td>\n",
       "      <td>39683</td>\n",
       "      <td>2.0</td>\n",
       "      <td>0.0</td>\n",
       "      <td>0.0</td>\n",
       "      <td>...</td>\n",
       "      <td>10</td>\n",
       "      <td>3450</td>\n",
       "      <td>?</td>\n",
       "      <td>2002</td>\n",
       "      <td>0.0</td>\n",
       "      <td>98010</td>\n",
       "      <td>47.3420</td>\n",
       "      <td>-122.025</td>\n",
       "      <td>3350</td>\n",
       "      <td>39750</td>\n",
       "    </tr>\n",
       "    <tr>\n",
       "      <th>112</th>\n",
       "      <td>2525310310</td>\n",
       "      <td>9/16/2014</td>\n",
       "      <td>272500.0</td>\n",
       "      <td>3</td>\n",
       "      <td>1.75</td>\n",
       "      <td>1540</td>\n",
       "      <td>12600</td>\n",
       "      <td>1.0</td>\n",
       "      <td>0.0</td>\n",
       "      <td>0.0</td>\n",
       "      <td>...</td>\n",
       "      <td>7</td>\n",
       "      <td>1160</td>\n",
       "      <td>?</td>\n",
       "      <td>1980</td>\n",
       "      <td>0.0</td>\n",
       "      <td>98038</td>\n",
       "      <td>47.3624</td>\n",
       "      <td>-122.031</td>\n",
       "      <td>1540</td>\n",
       "      <td>11656</td>\n",
       "    </tr>\n",
       "    <tr>\n",
       "      <th>...</th>\n",
       "      <td>...</td>\n",
       "      <td>...</td>\n",
       "      <td>...</td>\n",
       "      <td>...</td>\n",
       "      <td>...</td>\n",
       "      <td>...</td>\n",
       "      <td>...</td>\n",
       "      <td>...</td>\n",
       "      <td>...</td>\n",
       "      <td>...</td>\n",
       "      <td>...</td>\n",
       "      <td>...</td>\n",
       "      <td>...</td>\n",
       "      <td>...</td>\n",
       "      <td>...</td>\n",
       "      <td>...</td>\n",
       "      <td>...</td>\n",
       "      <td>...</td>\n",
       "      <td>...</td>\n",
       "      <td>...</td>\n",
       "      <td>...</td>\n",
       "    </tr>\n",
       "    <tr>\n",
       "      <th>21442</th>\n",
       "      <td>3226049565</td>\n",
       "      <td>7/11/2014</td>\n",
       "      <td>504600.0</td>\n",
       "      <td>5</td>\n",
       "      <td>3.00</td>\n",
       "      <td>2360</td>\n",
       "      <td>5000</td>\n",
       "      <td>1.0</td>\n",
       "      <td>0.0</td>\n",
       "      <td>0.0</td>\n",
       "      <td>...</td>\n",
       "      <td>7</td>\n",
       "      <td>1390</td>\n",
       "      <td>?</td>\n",
       "      <td>2008</td>\n",
       "      <td>0.0</td>\n",
       "      <td>98103</td>\n",
       "      <td>47.6931</td>\n",
       "      <td>-122.330</td>\n",
       "      <td>2180</td>\n",
       "      <td>5009</td>\n",
       "    </tr>\n",
       "    <tr>\n",
       "      <th>21447</th>\n",
       "      <td>1760650900</td>\n",
       "      <td>7/21/2014</td>\n",
       "      <td>337500.0</td>\n",
       "      <td>4</td>\n",
       "      <td>2.50</td>\n",
       "      <td>2330</td>\n",
       "      <td>4907</td>\n",
       "      <td>2.0</td>\n",
       "      <td>0.0</td>\n",
       "      <td>0.0</td>\n",
       "      <td>...</td>\n",
       "      <td>7</td>\n",
       "      <td>2330</td>\n",
       "      <td>?</td>\n",
       "      <td>2013</td>\n",
       "      <td>NaN</td>\n",
       "      <td>98042</td>\n",
       "      <td>47.3590</td>\n",
       "      <td>-122.081</td>\n",
       "      <td>2300</td>\n",
       "      <td>3836</td>\n",
       "    </tr>\n",
       "    <tr>\n",
       "      <th>21473</th>\n",
       "      <td>6021503707</td>\n",
       "      <td>1/20/2015</td>\n",
       "      <td>352500.0</td>\n",
       "      <td>2</td>\n",
       "      <td>2.50</td>\n",
       "      <td>980</td>\n",
       "      <td>1010</td>\n",
       "      <td>3.0</td>\n",
       "      <td>NaN</td>\n",
       "      <td>0.0</td>\n",
       "      <td>...</td>\n",
       "      <td>8</td>\n",
       "      <td>980</td>\n",
       "      <td>?</td>\n",
       "      <td>2008</td>\n",
       "      <td>0.0</td>\n",
       "      <td>98117</td>\n",
       "      <td>47.6844</td>\n",
       "      <td>-122.387</td>\n",
       "      <td>980</td>\n",
       "      <td>1023</td>\n",
       "    </tr>\n",
       "    <tr>\n",
       "      <th>21519</th>\n",
       "      <td>2909310100</td>\n",
       "      <td>10/15/2014</td>\n",
       "      <td>332000.0</td>\n",
       "      <td>4</td>\n",
       "      <td>2.50</td>\n",
       "      <td>2380</td>\n",
       "      <td>5737</td>\n",
       "      <td>2.0</td>\n",
       "      <td>0.0</td>\n",
       "      <td>0.0</td>\n",
       "      <td>...</td>\n",
       "      <td>7</td>\n",
       "      <td>2380</td>\n",
       "      <td>?</td>\n",
       "      <td>2010</td>\n",
       "      <td>0.0</td>\n",
       "      <td>98023</td>\n",
       "      <td>47.2815</td>\n",
       "      <td>-122.356</td>\n",
       "      <td>2380</td>\n",
       "      <td>5396</td>\n",
       "    </tr>\n",
       "    <tr>\n",
       "      <th>21581</th>\n",
       "      <td>191100405</td>\n",
       "      <td>4/21/2015</td>\n",
       "      <td>1580000.0</td>\n",
       "      <td>4</td>\n",
       "      <td>3.25</td>\n",
       "      <td>3410</td>\n",
       "      <td>10125</td>\n",
       "      <td>2.0</td>\n",
       "      <td>0.0</td>\n",
       "      <td>0.0</td>\n",
       "      <td>...</td>\n",
       "      <td>10</td>\n",
       "      <td>3410</td>\n",
       "      <td>?</td>\n",
       "      <td>2007</td>\n",
       "      <td>NaN</td>\n",
       "      <td>98040</td>\n",
       "      <td>47.5653</td>\n",
       "      <td>-122.223</td>\n",
       "      <td>2290</td>\n",
       "      <td>10125</td>\n",
       "    </tr>\n",
       "  </tbody>\n",
       "</table>\n",
       "<p>454 rows × 21 columns</p>\n",
       "</div>"
      ],
      "text/plain": [
       "               id        date      price  bedrooms  bathrooms  sqft_living  \\\n",
       "6      1321400060   6/27/2014   257500.0         3       2.25         1715   \n",
       "18       16000397   12/5/2014   189000.0         2       1.00         1200   \n",
       "42     7203220400    7/7/2014   861990.0         5       2.75         3595   \n",
       "79     1531000030   3/23/2015   720000.0         4       2.50         3450   \n",
       "112    2525310310   9/16/2014   272500.0         3       1.75         1540   \n",
       "...           ...         ...        ...       ...        ...          ...   \n",
       "21442  3226049565   7/11/2014   504600.0         5       3.00         2360   \n",
       "21447  1760650900   7/21/2014   337500.0         4       2.50         2330   \n",
       "21473  6021503707   1/20/2015   352500.0         2       2.50          980   \n",
       "21519  2909310100  10/15/2014   332000.0         4       2.50         2380   \n",
       "21581   191100405   4/21/2015  1580000.0         4       3.25         3410   \n",
       "\n",
       "       sqft_lot  floors  waterfront  view  ...  grade  sqft_above  \\\n",
       "6          6819     2.0         0.0   0.0  ...      7        1715   \n",
       "18         9850     1.0         0.0   0.0  ...      7        1200   \n",
       "42         5639     2.0         0.0   0.0  ...      9        3595   \n",
       "79        39683     2.0         0.0   0.0  ...     10        3450   \n",
       "112       12600     1.0         0.0   0.0  ...      7        1160   \n",
       "...         ...     ...         ...   ...  ...    ...         ...   \n",
       "21442      5000     1.0         0.0   0.0  ...      7        1390   \n",
       "21447      4907     2.0         0.0   0.0  ...      7        2330   \n",
       "21473      1010     3.0         NaN   0.0  ...      8         980   \n",
       "21519      5737     2.0         0.0   0.0  ...      7        2380   \n",
       "21581     10125     2.0         0.0   0.0  ...     10        3410   \n",
       "\n",
       "       sqft_basement yr_built  yr_renovated  zipcode      lat     long  \\\n",
       "6                  ?     1995           0.0    98003  47.3097 -122.327   \n",
       "18                 ?     1921           0.0    98002  47.3089 -122.210   \n",
       "42                 ?     2014           0.0    98053  47.6848 -122.016   \n",
       "79                 ?     2002           0.0    98010  47.3420 -122.025   \n",
       "112                ?     1980           0.0    98038  47.3624 -122.031   \n",
       "...              ...      ...           ...      ...      ...      ...   \n",
       "21442              ?     2008           0.0    98103  47.6931 -122.330   \n",
       "21447              ?     2013           NaN    98042  47.3590 -122.081   \n",
       "21473              ?     2008           0.0    98117  47.6844 -122.387   \n",
       "21519              ?     2010           0.0    98023  47.2815 -122.356   \n",
       "21581              ?     2007           NaN    98040  47.5653 -122.223   \n",
       "\n",
       "       sqft_living15  sqft_lot15  \n",
       "6               2238        6819  \n",
       "18              1060        5095  \n",
       "42              3625        5639  \n",
       "79              3350       39750  \n",
       "112             1540       11656  \n",
       "...              ...         ...  \n",
       "21442           2180        5009  \n",
       "21447           2300        3836  \n",
       "21473            980        1023  \n",
       "21519           2380        5396  \n",
       "21581           2290       10125  \n",
       "\n",
       "[454 rows x 21 columns]"
      ]
     },
     "execution_count": 4,
     "metadata": {},
     "output_type": "execute_result"
    }
   ],
   "source": [
    "df.loc[df['sqft_basement'] == '?']"
   ]
  },
  {
   "cell_type": "code",
   "execution_count": 5,
   "metadata": {},
   "outputs": [
    {
     "data": {
      "text/plain": [
       "(21597, 21)"
      ]
     },
     "execution_count": 5,
     "metadata": {},
     "output_type": "execute_result"
    }
   ],
   "source": [
    "df['sqft_basement'] = df['sqft_basement'].str.replace('?', '0')\n",
    "\n",
    "df.shape"
   ]
  },
  {
   "cell_type": "code",
   "execution_count": 6,
   "metadata": {},
   "outputs": [],
   "source": [
    "df[['sqft_basement']] = df[['sqft_basement']].apply(pd.to_numeric)"
   ]
  },
  {
   "cell_type": "code",
   "execution_count": 7,
   "metadata": {},
   "outputs": [],
   "source": [
    "df['area_basement'] = df['sqft_living']-df['sqft_above']"
   ]
  },
  {
   "cell_type": "code",
   "execution_count": 8,
   "metadata": {
    "tags": []
   },
   "outputs": [
    {
     "data": {
      "text/html": [
       "<div>\n",
       "<style scoped>\n",
       "    .dataframe tbody tr th:only-of-type {\n",
       "        vertical-align: middle;\n",
       "    }\n",
       "\n",
       "    .dataframe tbody tr th {\n",
       "        vertical-align: top;\n",
       "    }\n",
       "\n",
       "    .dataframe thead th {\n",
       "        text-align: right;\n",
       "    }\n",
       "</style>\n",
       "<table border=\"1\" class=\"dataframe\">\n",
       "  <thead>\n",
       "    <tr style=\"text-align: right;\">\n",
       "      <th></th>\n",
       "      <th>id</th>\n",
       "      <th>date</th>\n",
       "      <th>price</th>\n",
       "      <th>bedrooms</th>\n",
       "      <th>bathrooms</th>\n",
       "      <th>sqft_living</th>\n",
       "      <th>sqft_lot</th>\n",
       "      <th>floors</th>\n",
       "      <th>waterfront</th>\n",
       "      <th>view</th>\n",
       "      <th>...</th>\n",
       "      <th>sqft_above</th>\n",
       "      <th>sqft_basement</th>\n",
       "      <th>yr_built</th>\n",
       "      <th>yr_renovated</th>\n",
       "      <th>zipcode</th>\n",
       "      <th>lat</th>\n",
       "      <th>long</th>\n",
       "      <th>sqft_living15</th>\n",
       "      <th>sqft_lot15</th>\n",
       "      <th>area_basement</th>\n",
       "    </tr>\n",
       "  </thead>\n",
       "  <tbody>\n",
       "    <tr>\n",
       "      <th>0</th>\n",
       "      <td>7129300520</td>\n",
       "      <td>10/13/2014</td>\n",
       "      <td>221900.0</td>\n",
       "      <td>3</td>\n",
       "      <td>1.00</td>\n",
       "      <td>1180</td>\n",
       "      <td>5650</td>\n",
       "      <td>1.0</td>\n",
       "      <td>NaN</td>\n",
       "      <td>0.0</td>\n",
       "      <td>...</td>\n",
       "      <td>1180</td>\n",
       "      <td>0.0</td>\n",
       "      <td>1955</td>\n",
       "      <td>0.0</td>\n",
       "      <td>98178</td>\n",
       "      <td>47.5112</td>\n",
       "      <td>-122.257</td>\n",
       "      <td>1340</td>\n",
       "      <td>5650</td>\n",
       "      <td>0</td>\n",
       "    </tr>\n",
       "    <tr>\n",
       "      <th>1</th>\n",
       "      <td>6414100192</td>\n",
       "      <td>12/9/2014</td>\n",
       "      <td>538000.0</td>\n",
       "      <td>3</td>\n",
       "      <td>2.25</td>\n",
       "      <td>2570</td>\n",
       "      <td>7242</td>\n",
       "      <td>2.0</td>\n",
       "      <td>0.0</td>\n",
       "      <td>0.0</td>\n",
       "      <td>...</td>\n",
       "      <td>2170</td>\n",
       "      <td>400.0</td>\n",
       "      <td>1951</td>\n",
       "      <td>1991.0</td>\n",
       "      <td>98125</td>\n",
       "      <td>47.7210</td>\n",
       "      <td>-122.319</td>\n",
       "      <td>1690</td>\n",
       "      <td>7639</td>\n",
       "      <td>400</td>\n",
       "    </tr>\n",
       "    <tr>\n",
       "      <th>2</th>\n",
       "      <td>5631500400</td>\n",
       "      <td>2/25/2015</td>\n",
       "      <td>180000.0</td>\n",
       "      <td>2</td>\n",
       "      <td>1.00</td>\n",
       "      <td>770</td>\n",
       "      <td>10000</td>\n",
       "      <td>1.0</td>\n",
       "      <td>0.0</td>\n",
       "      <td>0.0</td>\n",
       "      <td>...</td>\n",
       "      <td>770</td>\n",
       "      <td>0.0</td>\n",
       "      <td>1933</td>\n",
       "      <td>NaN</td>\n",
       "      <td>98028</td>\n",
       "      <td>47.7379</td>\n",
       "      <td>-122.233</td>\n",
       "      <td>2720</td>\n",
       "      <td>8062</td>\n",
       "      <td>0</td>\n",
       "    </tr>\n",
       "    <tr>\n",
       "      <th>3</th>\n",
       "      <td>2487200875</td>\n",
       "      <td>12/9/2014</td>\n",
       "      <td>604000.0</td>\n",
       "      <td>4</td>\n",
       "      <td>3.00</td>\n",
       "      <td>1960</td>\n",
       "      <td>5000</td>\n",
       "      <td>1.0</td>\n",
       "      <td>0.0</td>\n",
       "      <td>0.0</td>\n",
       "      <td>...</td>\n",
       "      <td>1050</td>\n",
       "      <td>910.0</td>\n",
       "      <td>1965</td>\n",
       "      <td>0.0</td>\n",
       "      <td>98136</td>\n",
       "      <td>47.5208</td>\n",
       "      <td>-122.393</td>\n",
       "      <td>1360</td>\n",
       "      <td>5000</td>\n",
       "      <td>910</td>\n",
       "    </tr>\n",
       "    <tr>\n",
       "      <th>4</th>\n",
       "      <td>1954400510</td>\n",
       "      <td>2/18/2015</td>\n",
       "      <td>510000.0</td>\n",
       "      <td>3</td>\n",
       "      <td>2.00</td>\n",
       "      <td>1680</td>\n",
       "      <td>8080</td>\n",
       "      <td>1.0</td>\n",
       "      <td>0.0</td>\n",
       "      <td>0.0</td>\n",
       "      <td>...</td>\n",
       "      <td>1680</td>\n",
       "      <td>0.0</td>\n",
       "      <td>1987</td>\n",
       "      <td>0.0</td>\n",
       "      <td>98074</td>\n",
       "      <td>47.6168</td>\n",
       "      <td>-122.045</td>\n",
       "      <td>1800</td>\n",
       "      <td>7503</td>\n",
       "      <td>0</td>\n",
       "    </tr>\n",
       "  </tbody>\n",
       "</table>\n",
       "<p>5 rows × 22 columns</p>\n",
       "</div>"
      ],
      "text/plain": [
       "           id        date     price  bedrooms  bathrooms  sqft_living  \\\n",
       "0  7129300520  10/13/2014  221900.0         3       1.00         1180   \n",
       "1  6414100192   12/9/2014  538000.0         3       2.25         2570   \n",
       "2  5631500400   2/25/2015  180000.0         2       1.00          770   \n",
       "3  2487200875   12/9/2014  604000.0         4       3.00         1960   \n",
       "4  1954400510   2/18/2015  510000.0         3       2.00         1680   \n",
       "\n",
       "   sqft_lot  floors  waterfront  view  ...  sqft_above  sqft_basement  \\\n",
       "0      5650     1.0         NaN   0.0  ...        1180            0.0   \n",
       "1      7242     2.0         0.0   0.0  ...        2170          400.0   \n",
       "2     10000     1.0         0.0   0.0  ...         770            0.0   \n",
       "3      5000     1.0         0.0   0.0  ...        1050          910.0   \n",
       "4      8080     1.0         0.0   0.0  ...        1680            0.0   \n",
       "\n",
       "   yr_built  yr_renovated  zipcode      lat     long  sqft_living15  \\\n",
       "0      1955           0.0    98178  47.5112 -122.257           1340   \n",
       "1      1951        1991.0    98125  47.7210 -122.319           1690   \n",
       "2      1933           NaN    98028  47.7379 -122.233           2720   \n",
       "3      1965           0.0    98136  47.5208 -122.393           1360   \n",
       "4      1987           0.0    98074  47.6168 -122.045           1800   \n",
       "\n",
       "   sqft_lot15  area_basement  \n",
       "0        5650              0  \n",
       "1        7639            400  \n",
       "2        8062              0  \n",
       "3        5000            910  \n",
       "4        7503              0  \n",
       "\n",
       "[5 rows x 22 columns]"
      ]
     },
     "execution_count": 8,
     "metadata": {},
     "output_type": "execute_result"
    }
   ],
   "source": [
    "df.head()"
   ]
  },
  {
   "cell_type": "code",
   "execution_count": 199,
   "metadata": {},
   "outputs": [
    {
     "data": {
      "text/plain": [
       "<seaborn.axisgrid.FacetGrid at 0x12847ca2940>"
      ]
     },
     "execution_count": 199,
     "metadata": {},
     "output_type": "execute_result"
    },
    {
     "data": {
      "image/png": "[encoded data removed]",
      "text/plain": [
       "<Figure size 360x360 with 1 Axes>"
      ]
     },
     "metadata": {
      "needs_background": "light"
     },
     "output_type": "display_data"
    }
   ],
   "source": [
    "sns.displot(df, x=\"price\", binwidth=1000, stat=\"density\")"
   ]
  },
  {
   "cell_type": "markdown",
   "metadata": {},
   "source": [
    "### Model 1: start w/ simple model at first for baseline"
   ]
  },
  {
   "cell_type": "code",
   "execution_count": 146,
   "metadata": {},
   "outputs": [],
   "source": [
    "#set X & y variables\n",
    "X = df.drop(['price'], axis = 1)\n",
    "y = df['price']"
   ]
  },
  {
   "cell_type": "code",
   "execution_count": 147,
   "metadata": {},
   "outputs": [],
   "source": [
    "#train_test_split\n",
    "X_train, X_test, y_train, y_test = train_test_split(X, y, test_size=0.30, random_state=2021)"
   ]
  },
  {
   "cell_type": "code",
   "execution_count": 189,
   "metadata": {},
   "outputs": [
    {
     "data": {
      "image/png": "[encoded data removed]",
      "text/plain": [
       "<Figure size 432x288 with 2 Axes>"
      ]
     },
     "metadata": {
      "needs_background": "light"
     },
     "output_type": "display_data"
    },
    {
     "data": {
      "text/plain": [
       "<AxesSubplot:title={'center':'Residuals for LinearRegression Model'}, xlabel='Predicted Value', ylabel='Residuals'>"
      ]
     },
     "execution_count": 189,
     "metadata": {},
     "output_type": "execute_result"
    }
   ],
   "source": [
    "#run simple model w/ best predictor (sqft_living)\n",
    "model_1_train = X_train[['sqft_living']] \n",
    "model_1_test = X_test[['sqft_living']]\n",
    "model1 = LinearRegression()\n",
    "model1.fit(model_1_train, y_train)\n",
    "\n",
    "# Instantiate the visualizer\n",
    "visualizer = ResidualsPlot(model1)\n",
    "\n",
    "visualizer.fit(model_1_train, y_train)  # Fit the training data to the visualizer\n",
    "visualizer.score(model_1_test, y_test)  # Evaluate the model on the test data\n",
    "visualizer.show()                 # Finalize and render the figure"
   ]
  },
  {
   "cell_type": "code",
   "execution_count": 187,
   "metadata": {},
   "outputs": [
    {
     "name": "stdout",
     "output_type": "stream",
     "text": [
      "train error 262419.7884333472\n",
      "test error 259878.49234916252\n",
      "coefficient of determination: 0.4886786453279144\n",
      "intercept: -47377.18949402089\n",
      "slope: [281.86285286]\n",
      "       feature        weight\n",
      "0    intercept -47377.189494\n",
      "1  sqft_living    281.862853\n"
     ]
    }
   ],
   "source": [
    "#interpret the error & fit of the model\n",
    "train_preds = model1.predict(model_1_train)\n",
    "test_preds = model1.predict(model_1_test)\n",
    "\n",
    "train_error = mean_squared_error(y_train, train_preds, squared=False)\n",
    "test_error = mean_squared_error(y_test, test_preds, squared=False)\n",
    "print('train error', train_error)\n",
    "print('test error', test_error)\n",
    "\n",
    "r_sq = model1.score(model_1_train, y_train)\n",
    "print('coefficient of determination:', r_sq)\n",
    "print('intercept:', model1.intercept_)\n",
    "#intercept: 5.633333333333329\n",
    "print('slope:', model1.coef_)\n",
    "model_info = pd.DataFrame([('intercept', model1.intercept_)] + list(zip(model_1_train.columns, model1.coef_)), columns=['feature', 'weight'])\n",
    "print(model_info)"
   ]
  },
  {
   "cell_type": "code",
   "execution_count": 150,
   "metadata": {},
   "outputs": [
    {
     "data": {
      "text/plain": [
       "numpy.ndarray"
      ]
     },
     "execution_count": 150,
     "metadata": {},
     "output_type": "execute_result"
    }
   ],
   "source": [
    "type(train_preds)"
   ]
  },
  {
   "cell_type": "code",
   "execution_count": 151,
   "metadata": {},
   "outputs": [
    {
     "data": {
      "text/plain": [
       "array([ 416569.06631542,  440245.54595576, 1111079.13576527, ...,\n",
       "        654461.31413022,  282402.34835352,  319044.51922546])"
      ]
     },
     "execution_count": 151,
     "metadata": {},
     "output_type": "execute_result"
    }
   ],
   "source": [
    "train_preds"
   ]
  },
  {
   "cell_type": "code",
   "execution_count": 163,
   "metadata": {},
   "outputs": [
    {
     "name": "stderr",
     "output_type": "stream",
     "text": [
      "<ipython-input-163-d93728ddafa8>:1: SettingWithCopyWarning: \n",
      "A value is trying to be set on a copy of a slice from a DataFrame.\n",
      "Try using .loc[row_indexer,col_indexer] = value instead\n",
      "\n",
      "See the caveats in the documentation: https://pandas.pydata.org/pandas-docs/stable/user_guide/indexing.html#returning-a-view-versus-a-copy\n",
      "  X_train['price'] = y\n",
      "<ipython-input-163-d93728ddafa8>:2: SettingWithCopyWarning: \n",
      "A value is trying to be set on a copy of a slice from a DataFrame.\n",
      "Try using .loc[row_indexer,col_indexer] = value instead\n",
      "\n",
      "See the caveats in the documentation: https://pandas.pydata.org/pandas-docs/stable/user_guide/indexing.html#returning-a-view-versus-a-copy\n",
      "  X_train['resid'] = np.abs(y_train-train_preds)\n"
     ]
    },
    {
     "data": {
      "text/html": [
       "<div>\n",
       "<style scoped>\n",
       "    .dataframe tbody tr th:only-of-type {\n",
       "        vertical-align: middle;\n",
       "    }\n",
       "\n",
       "    .dataframe tbody tr th {\n",
       "        vertical-align: top;\n",
       "    }\n",
       "\n",
       "    .dataframe thead th {\n",
       "        text-align: right;\n",
       "    }\n",
       "</style>\n",
       "<table border=\"1\" class=\"dataframe\">\n",
       "  <thead>\n",
       "    <tr style=\"text-align: right;\">\n",
       "      <th></th>\n",
       "      <th>id</th>\n",
       "      <th>date</th>\n",
       "      <th>bedrooms</th>\n",
       "      <th>bathrooms</th>\n",
       "      <th>sqft_living</th>\n",
       "      <th>sqft_lot</th>\n",
       "      <th>floors</th>\n",
       "      <th>waterfront</th>\n",
       "      <th>view</th>\n",
       "      <th>condition</th>\n",
       "      <th>...</th>\n",
       "      <th>yr_built</th>\n",
       "      <th>yr_renovated</th>\n",
       "      <th>zipcode</th>\n",
       "      <th>lat</th>\n",
       "      <th>long</th>\n",
       "      <th>sqft_living15</th>\n",
       "      <th>sqft_lot15</th>\n",
       "      <th>area_basement</th>\n",
       "      <th>resid</th>\n",
       "      <th>price</th>\n",
       "    </tr>\n",
       "  </thead>\n",
       "  <tbody>\n",
       "    <tr>\n",
       "      <th>7245</th>\n",
       "      <td>6762700020</td>\n",
       "      <td>10/13/2014</td>\n",
       "      <td>6</td>\n",
       "      <td>8.00</td>\n",
       "      <td>12050</td>\n",
       "      <td>27600</td>\n",
       "      <td>2.5</td>\n",
       "      <td>0.0</td>\n",
       "      <td>3.0</td>\n",
       "      <td>4</td>\n",
       "      <td>...</td>\n",
       "      <td>1910</td>\n",
       "      <td>1987.0</td>\n",
       "      <td>98102</td>\n",
       "      <td>47.6298</td>\n",
       "      <td>-122.323</td>\n",
       "      <td>3940</td>\n",
       "      <td>8800</td>\n",
       "      <td>3480</td>\n",
       "      <td>4.350930e+06</td>\n",
       "      <td>7700000.0</td>\n",
       "    </tr>\n",
       "    <tr>\n",
       "      <th>3910</th>\n",
       "      <td>9808700762</td>\n",
       "      <td>6/11/2014</td>\n",
       "      <td>5</td>\n",
       "      <td>4.50</td>\n",
       "      <td>10040</td>\n",
       "      <td>37325</td>\n",
       "      <td>2.0</td>\n",
       "      <td>1.0</td>\n",
       "      <td>2.0</td>\n",
       "      <td>3</td>\n",
       "      <td>...</td>\n",
       "      <td>1940</td>\n",
       "      <td>2001.0</td>\n",
       "      <td>98004</td>\n",
       "      <td>47.6500</td>\n",
       "      <td>-122.214</td>\n",
       "      <td>3930</td>\n",
       "      <td>25449</td>\n",
       "      <td>2360</td>\n",
       "      <td>4.277474e+06</td>\n",
       "      <td>7060000.0</td>\n",
       "    </tr>\n",
       "    <tr>\n",
       "      <th>9245</th>\n",
       "      <td>9208900037</td>\n",
       "      <td>9/19/2014</td>\n",
       "      <td>6</td>\n",
       "      <td>7.75</td>\n",
       "      <td>9890</td>\n",
       "      <td>31374</td>\n",
       "      <td>2.0</td>\n",
       "      <td>0.0</td>\n",
       "      <td>4.0</td>\n",
       "      <td>3</td>\n",
       "      <td>...</td>\n",
       "      <td>2001</td>\n",
       "      <td>0.0</td>\n",
       "      <td>98039</td>\n",
       "      <td>47.6305</td>\n",
       "      <td>-122.240</td>\n",
       "      <td>4540</td>\n",
       "      <td>42730</td>\n",
       "      <td>1030</td>\n",
       "      <td>4.149754e+06</td>\n",
       "      <td>6890000.0</td>\n",
       "    </tr>\n",
       "    <tr>\n",
       "      <th>4407</th>\n",
       "      <td>2470100110</td>\n",
       "      <td>8/4/2014</td>\n",
       "      <td>5</td>\n",
       "      <td>5.75</td>\n",
       "      <td>9200</td>\n",
       "      <td>35069</td>\n",
       "      <td>2.0</td>\n",
       "      <td>0.0</td>\n",
       "      <td>0.0</td>\n",
       "      <td>3</td>\n",
       "      <td>...</td>\n",
       "      <td>2001</td>\n",
       "      <td>NaN</td>\n",
       "      <td>98039</td>\n",
       "      <td>47.6289</td>\n",
       "      <td>-122.233</td>\n",
       "      <td>3560</td>\n",
       "      <td>24345</td>\n",
       "      <td>3000</td>\n",
       "      <td>3.024239e+06</td>\n",
       "      <td>5570000.0</td>\n",
       "    </tr>\n",
       "  </tbody>\n",
       "</table>\n",
       "<p>4 rows × 23 columns</p>\n",
       "</div>"
      ],
      "text/plain": [
       "              id        date  bedrooms  bathrooms  sqft_living  sqft_lot  \\\n",
       "7245  6762700020  10/13/2014         6       8.00        12050     27600   \n",
       "3910  9808700762   6/11/2014         5       4.50        10040     37325   \n",
       "9245  9208900037   9/19/2014         6       7.75         9890     31374   \n",
       "4407  2470100110    8/4/2014         5       5.75         9200     35069   \n",
       "\n",
       "      floors  waterfront  view  condition  ...  yr_built  yr_renovated  \\\n",
       "7245     2.5         0.0   3.0          4  ...      1910        1987.0   \n",
       "3910     2.0         1.0   2.0          3  ...      1940        2001.0   \n",
       "9245     2.0         0.0   4.0          3  ...      2001           0.0   \n",
       "4407     2.0         0.0   0.0          3  ...      2001           NaN   \n",
       "\n",
       "      zipcode      lat     long  sqft_living15  sqft_lot15  area_basement  \\\n",
       "7245    98102  47.6298 -122.323           3940        8800           3480   \n",
       "3910    98004  47.6500 -122.214           3930       25449           2360   \n",
       "9245    98039  47.6305 -122.240           4540       42730           1030   \n",
       "4407    98039  47.6289 -122.233           3560       24345           3000   \n",
       "\n",
       "             resid      price  \n",
       "7245  4.350930e+06  7700000.0  \n",
       "3910  4.277474e+06  7060000.0  \n",
       "9245  4.149754e+06  6890000.0  \n",
       "4407  3.024239e+06  5570000.0  \n",
       "\n",
       "[4 rows x 23 columns]"
      ]
     },
     "execution_count": 163,
     "metadata": {},
     "output_type": "execute_result"
    }
   ],
   "source": [
    "X_train['price'] = y\n",
    "X_train['resid'] = np.abs(y_train-train_preds)\n",
    "X_train.loc[X_train['resid'] > 3000000]"
   ]
  },
  {
   "cell_type": "markdown",
   "metadata": {},
   "source": [
    "#### the model seems balanced, but produces a pretty poor fit "
   ]
  },
  {
   "cell_type": "code",
   "execution_count": 13,
   "metadata": {},
   "outputs": [],
   "source": [
    "#options: scaling, binning & encoding, polynomial model"
   ]
  },
  {
   "cell_type": "code",
   "execution_count": 14,
   "metadata": {
    "tags": []
   },
   "outputs": [],
   "source": [
    "#need to make a copy of the original then do train_test_split on it & continue with below"
   ]
  },
  {
   "cell_type": "markdown",
   "metadata": {},
   "source": [
    "### copy dataset & prepare for other models"
   ]
  },
  {
   "cell_type": "code",
   "execution_count": 15,
   "metadata": {},
   "outputs": [
    {
     "data": {
      "text/html": [
       "<div>\n",
       "<style scoped>\n",
       "    .dataframe tbody tr th:only-of-type {\n",
       "        vertical-align: middle;\n",
       "    }\n",
       "\n",
       "    .dataframe tbody tr th {\n",
       "        vertical-align: top;\n",
       "    }\n",
       "\n",
       "    .dataframe thead th {\n",
       "        text-align: right;\n",
       "    }\n",
       "</style>\n",
       "<table border=\"1\" class=\"dataframe\">\n",
       "  <thead>\n",
       "    <tr style=\"text-align: right;\">\n",
       "      <th></th>\n",
       "      <th>id</th>\n",
       "      <th>date</th>\n",
       "      <th>price</th>\n",
       "      <th>bedrooms</th>\n",
       "      <th>bathrooms</th>\n",
       "      <th>sqft_living</th>\n",
       "      <th>sqft_lot</th>\n",
       "      <th>floors</th>\n",
       "      <th>waterfront</th>\n",
       "      <th>view</th>\n",
       "      <th>...</th>\n",
       "      <th>sqft_above</th>\n",
       "      <th>sqft_basement</th>\n",
       "      <th>yr_built</th>\n",
       "      <th>yr_renovated</th>\n",
       "      <th>zipcode</th>\n",
       "      <th>lat</th>\n",
       "      <th>long</th>\n",
       "      <th>sqft_living15</th>\n",
       "      <th>sqft_lot15</th>\n",
       "      <th>area_basement</th>\n",
       "    </tr>\n",
       "  </thead>\n",
       "  <tbody>\n",
       "    <tr>\n",
       "      <th>0</th>\n",
       "      <td>7129300520</td>\n",
       "      <td>10/13/2014</td>\n",
       "      <td>221900.0</td>\n",
       "      <td>3</td>\n",
       "      <td>1.00</td>\n",
       "      <td>1180</td>\n",
       "      <td>5650</td>\n",
       "      <td>1.0</td>\n",
       "      <td>NaN</td>\n",
       "      <td>0.0</td>\n",
       "      <td>...</td>\n",
       "      <td>1180</td>\n",
       "      <td>0.0</td>\n",
       "      <td>1955</td>\n",
       "      <td>0.0</td>\n",
       "      <td>98178</td>\n",
       "      <td>47.5112</td>\n",
       "      <td>-122.257</td>\n",
       "      <td>1340</td>\n",
       "      <td>5650</td>\n",
       "      <td>0</td>\n",
       "    </tr>\n",
       "    <tr>\n",
       "      <th>1</th>\n",
       "      <td>6414100192</td>\n",
       "      <td>12/9/2014</td>\n",
       "      <td>538000.0</td>\n",
       "      <td>3</td>\n",
       "      <td>2.25</td>\n",
       "      <td>2570</td>\n",
       "      <td>7242</td>\n",
       "      <td>2.0</td>\n",
       "      <td>0.0</td>\n",
       "      <td>0.0</td>\n",
       "      <td>...</td>\n",
       "      <td>2170</td>\n",
       "      <td>400.0</td>\n",
       "      <td>1951</td>\n",
       "      <td>1991.0</td>\n",
       "      <td>98125</td>\n",
       "      <td>47.7210</td>\n",
       "      <td>-122.319</td>\n",
       "      <td>1690</td>\n",
       "      <td>7639</td>\n",
       "      <td>400</td>\n",
       "    </tr>\n",
       "    <tr>\n",
       "      <th>2</th>\n",
       "      <td>5631500400</td>\n",
       "      <td>2/25/2015</td>\n",
       "      <td>180000.0</td>\n",
       "      <td>2</td>\n",
       "      <td>1.00</td>\n",
       "      <td>770</td>\n",
       "      <td>10000</td>\n",
       "      <td>1.0</td>\n",
       "      <td>0.0</td>\n",
       "      <td>0.0</td>\n",
       "      <td>...</td>\n",
       "      <td>770</td>\n",
       "      <td>0.0</td>\n",
       "      <td>1933</td>\n",
       "      <td>NaN</td>\n",
       "      <td>98028</td>\n",
       "      <td>47.7379</td>\n",
       "      <td>-122.233</td>\n",
       "      <td>2720</td>\n",
       "      <td>8062</td>\n",
       "      <td>0</td>\n",
       "    </tr>\n",
       "    <tr>\n",
       "      <th>3</th>\n",
       "      <td>2487200875</td>\n",
       "      <td>12/9/2014</td>\n",
       "      <td>604000.0</td>\n",
       "      <td>4</td>\n",
       "      <td>3.00</td>\n",
       "      <td>1960</td>\n",
       "      <td>5000</td>\n",
       "      <td>1.0</td>\n",
       "      <td>0.0</td>\n",
       "      <td>0.0</td>\n",
       "      <td>...</td>\n",
       "      <td>1050</td>\n",
       "      <td>910.0</td>\n",
       "      <td>1965</td>\n",
       "      <td>0.0</td>\n",
       "      <td>98136</td>\n",
       "      <td>47.5208</td>\n",
       "      <td>-122.393</td>\n",
       "      <td>1360</td>\n",
       "      <td>5000</td>\n",
       "      <td>910</td>\n",
       "    </tr>\n",
       "    <tr>\n",
       "      <th>4</th>\n",
       "      <td>1954400510</td>\n",
       "      <td>2/18/2015</td>\n",
       "      <td>510000.0</td>\n",
       "      <td>3</td>\n",
       "      <td>2.00</td>\n",
       "      <td>1680</td>\n",
       "      <td>8080</td>\n",
       "      <td>1.0</td>\n",
       "      <td>0.0</td>\n",
       "      <td>0.0</td>\n",
       "      <td>...</td>\n",
       "      <td>1680</td>\n",
       "      <td>0.0</td>\n",
       "      <td>1987</td>\n",
       "      <td>0.0</td>\n",
       "      <td>98074</td>\n",
       "      <td>47.6168</td>\n",
       "      <td>-122.045</td>\n",
       "      <td>1800</td>\n",
       "      <td>7503</td>\n",
       "      <td>0</td>\n",
       "    </tr>\n",
       "  </tbody>\n",
       "</table>\n",
       "<p>5 rows × 22 columns</p>\n",
       "</div>"
      ],
      "text/plain": [
       "           id        date     price  bedrooms  bathrooms  sqft_living  \\\n",
       "0  7129300520  10/13/2014  221900.0         3       1.00         1180   \n",
       "1  6414100192   12/9/2014  538000.0         3       2.25         2570   \n",
       "2  5631500400   2/25/2015  180000.0         2       1.00          770   \n",
       "3  2487200875   12/9/2014  604000.0         4       3.00         1960   \n",
       "4  1954400510   2/18/2015  510000.0         3       2.00         1680   \n",
       "\n",
       "   sqft_lot  floors  waterfront  view  ...  sqft_above  sqft_basement  \\\n",
       "0      5650     1.0         NaN   0.0  ...        1180            0.0   \n",
       "1      7242     2.0         0.0   0.0  ...        2170          400.0   \n",
       "2     10000     1.0         0.0   0.0  ...         770            0.0   \n",
       "3      5000     1.0         0.0   0.0  ...        1050          910.0   \n",
       "4      8080     1.0         0.0   0.0  ...        1680            0.0   \n",
       "\n",
       "   yr_built  yr_renovated  zipcode      lat     long  sqft_living15  \\\n",
       "0      1955           0.0    98178  47.5112 -122.257           1340   \n",
       "1      1951        1991.0    98125  47.7210 -122.319           1690   \n",
       "2      1933           NaN    98028  47.7379 -122.233           2720   \n",
       "3      1965           0.0    98136  47.5208 -122.393           1360   \n",
       "4      1987           0.0    98074  47.6168 -122.045           1800   \n",
       "\n",
       "   sqft_lot15  area_basement  \n",
       "0        5650              0  \n",
       "1        7639            400  \n",
       "2        8062              0  \n",
       "3        5000            910  \n",
       "4        7503              0  \n",
       "\n",
       "[5 rows x 22 columns]"
      ]
     },
     "execution_count": 15,
     "metadata": {},
     "output_type": "execute_result"
    }
   ],
   "source": [
    "df_2 = df.copy()\n",
    "df_2.head()"
   ]
  },
  {
   "cell_type": "code",
   "execution_count": 99,
   "metadata": {
    "tags": []
   },
   "outputs": [],
   "source": [
    "#set X & y variables\n",
    "X = df_2.drop(['price'], axis = 1)\n",
    "y = df_2['price']"
   ]
  },
  {
   "cell_type": "code",
   "execution_count": 100,
   "metadata": {},
   "outputs": [],
   "source": [
    "#train_test_split\n",
    "X_train, X_test, y_train, y_test = train_test_split(X, y, test_size=0.30, random_state=2021)"
   ]
  },
  {
   "cell_type": "code",
   "execution_count": 101,
   "metadata": {},
   "outputs": [],
   "source": [
    "#set predictors by dropping these variables\n",
    "# X_train_pared = X_train.drop(['id', 'date', 'waterfront', 'view', 'sqft_basement', 'lat', 'long', 'yr_renovated'], axis = 1)\n",
    "# X_test_pared = X_test.drop(['id', 'date', 'waterfront', 'view', 'sqft_basement', 'lat', 'long', 'yr_renovated'], axis = 1)\n"
   ]
  },
  {
   "cell_type": "code",
   "execution_count": 102,
   "metadata": {
    "tags": []
   },
   "outputs": [],
   "source": [
    "X_train_pared =X_train[['bedrooms', 'bathrooms', 'sqft_living', 'sqft_lot', 'floors',\n",
    "       'condition', 'grade', 'sqft_above', 'yr_built', 'zipcode',\n",
    "       'sqft_living15', 'sqft_lot15', 'area_basement']]\n",
    "X_test_pared = X_test[['bedrooms', 'bathrooms', 'sqft_living', 'sqft_lot', 'floors',\n",
    "       'condition', 'grade', 'sqft_above', 'yr_built', 'zipcode',\n",
    "       'sqft_living15', 'sqft_lot15', 'area_basement']]\n"
   ]
  },
  {
   "cell_type": "code",
   "execution_count": 20,
   "metadata": {
    "tags": []
   },
   "outputs": [
    {
     "name": "stdout",
     "output_type": "stream",
     "text": [
      "X_train_pared is this big: (15117, 13)\n",
      "X_test_pared is this big: (6480, 13)\n",
      "y_train is this big: (15117,)\n",
      "y_test is this big: (6480,)\n"
     ]
    }
   ],
   "source": [
    "print(f\"X_train_pared is this big: {X_train_pared.shape}\")\n",
    "print(f\"X_test_pared is this big: {X_test_pared.shape}\")\n",
    "print(f\"y_train is this big: {y_train.shape}\")\n",
    "print(f\"y_test is this big: {y_test.shape}\")"
   ]
  },
  {
   "cell_type": "markdown",
   "metadata": {},
   "source": [
    "### function for running models (code modified from Joel)"
   ]
  },
  {
   "cell_type": "code",
   "execution_count": 190,
   "metadata": {},
   "outputs": [],
   "source": [
    "#this code is heavily borrowed from Joel Collins' solution for the Kaggle exercise\n",
    "#input for model is previously calculated X_train, etc. data AND list of features from X_train\n",
    "#to use the model, only change the features & rely on former X_train, etc.\n",
    "\n",
    "def mrmodel(X_train, X_test, y_train, y_test, features):\n",
    "    # Isolate the features for the model\n",
    "    model_train = X_train[features]\n",
    "    model_test = X_test[features]\n",
    "    \n",
    "    # Initialize a model\n",
    "    model = LinearRegression()\n",
    "    \n",
    "    # Fit the model\n",
    "    model.fit(model_train, y_train)\n",
    "    \n",
    "    # Generate training and test predictions\n",
    "    train_preds = model.predict(model_train)\n",
    "    test_preds = model.predict(model_test)\n",
    "    \n",
    "    # Calculate training and test error\n",
    "    train_error = mean_squared_error(y_train, train_preds, squared=False)\n",
    "    test_error = mean_squared_error(y_test, test_preds, squared=False)\n",
    "    \n",
    "    # return results\n",
    "    difference = test_error - train_error\n",
    "    print('train error', train_error)\n",
    "    print('test error', test_error)\n",
    "    print(f'difference: {difference}')\n",
    "\n",
    "    r_sq = model.score(model_train, y_train)\n",
    "    print('coefficient of determination:', r_sq)\n",
    "    print('intercept:', model.intercept_)\n",
    "    #intercept: 5.633333333333329\n",
    "    model_info = pd.DataFrame([('intercept', model.intercept_)] + list(zip(model_train.columns, model.coef_)), columns=['feature', 'weight'])\n",
    "    \n",
    "    print(model_info)\n",
    "    return model, model_train, model_test, model_info\n",
    "    "
   ]
  },
  {
   "cell_type": "code",
   "execution_count": null,
   "metadata": {},
   "outputs": [],
   "source": []
  },
  {
   "cell_type": "markdown",
   "metadata": {},
   "source": [
    "### functions for visualizing performance of models"
   ]
  },
  {
   "cell_type": "code",
   "execution_count": 73,
   "metadata": {},
   "outputs": [],
   "source": [
    "def residualizer(model, X_train, X_test, y_train, y_test):\n",
    "    # this requires the yellowbrick api, which is called by...\n",
    "    # from yellowbrick.regressor import ResidualsPlot\n",
    "    # Instantiate the visualizer\n",
    "    visualizer = ResidualsPlot(model)\n",
    "    visualizer.fit(X_train, y_train)  # Fit the training data to the visualizer\n",
    "    visualizer.score(X_test, y_test)  # Evaluate the model on the test data\n",
    "    return visualizer.show()                 # Finalize and render the figure"
   ]
  },
  {
   "cell_type": "code",
   "execution_count": 74,
   "metadata": {},
   "outputs": [],
   "source": [
    "def plot_bins(model, X, y, bins=10, title='binned error'):\n",
    "    q=pd.qcut(y, bins) #magical pandas function, makes quantiles (10 in this case)\n",
    "    frame=pd.DataFrame(q) #takes cuts into a df so you can do groupby later\n",
    "    frame['error']=model.predict(X)-y #estimates error\n",
    "    frame.columns = ['bins', 'errors'] #reset column names\n",
    "    avg=frame.groupby('bins').mean()\n",
    "    avg['std']=frame.groupby('bins').std().iloc[:,0]\n",
    "    avg.rename(columns={'bins':'mean'}, inplace=True)\n",
    "    avg.plot(kind='bar', figsize=(15,6), title=title)\n",
    "    \n",
    "    "
   ]
  },
  {
   "cell_type": "markdown",
   "metadata": {},
   "source": [
    "### running model 1 w/ functions"
   ]
  },
  {
   "cell_type": "code",
   "execution_count": 166,
   "metadata": {},
   "outputs": [
    {
     "name": "stdout",
     "output_type": "stream",
     "text": [
      "train error 262419.7884333472\n",
      "test error 259878.49234916252\n",
      "difference: -2541.2960841846652\n",
      "coefficient of determination: 0.4886786453279144\n",
      "intercept: -47377.18949402089\n",
      "       feature        weight\n",
      "0    intercept -47377.189494\n",
      "1  sqft_living    281.862853\n"
     ]
    }
   ],
   "source": [
    "#run Joel's function (\"mrmodel\"): needs specified list of features and X_train, X_test, etc. specified in previous step \n",
    "model_features = ['sqft_living']\n",
    "model_1_results, model_train, model_test = mrmodel(X_train, X_test, y_train, y_test, model_features)\n",
    "#residualizer(model_1_results, X_train, X_test, y_train, y_test)"
   ]
  },
  {
   "cell_type": "code",
   "execution_count": 167,
   "metadata": {},
   "outputs": [
    {
     "data": {
      "text/plain": [
       "<function __main__.model(X_train, X_test, y_train, y_test, features)>"
      ]
     },
     "execution_count": 167,
     "metadata": {},
     "output_type": "execute_result"
    }
   ],
   "source": [
    "model"
   ]
  },
  {
   "cell_type": "code",
   "execution_count": 168,
   "metadata": {},
   "outputs": [
    {
     "data": {
      "text/plain": [
       "LinearRegression()"
      ]
     },
     "execution_count": 168,
     "metadata": {},
     "output_type": "execute_result"
    }
   ],
   "source": [
    "model_1_results"
   ]
  },
  {
   "cell_type": "code",
   "execution_count": 169,
   "metadata": {
    "tags": []
   },
   "outputs": [
    {
     "ename": "AttributeError",
     "evalue": "'function' object has no attribute 'predict'",
     "output_type": "error",
     "traceback": [
      "\u001b[1;31m---------------------------------------------------------------------------\u001b[0m",
      "\u001b[1;31mAttributeError\u001b[0m                            Traceback (most recent call last)",
      "\u001b[1;32m<ipython-input-169-af1d18077bec>\u001b[0m in \u001b[0;36m<module>\u001b[1;34m\u001b[0m\n\u001b[0;32m      1\u001b[0m \u001b[1;31m#run plot_bins function: needs name of model output and values specified by running the model,\u001b[0m\u001b[1;33m\u001b[0m\u001b[1;33m\u001b[0m\u001b[1;33m\u001b[0m\u001b[0m\n\u001b[0;32m      2\u001b[0m \u001b[1;31m# e.g., (model6, X_test[model_features], y_test)\u001b[0m\u001b[1;33m\u001b[0m\u001b[1;33m\u001b[0m\u001b[1;33m\u001b[0m\u001b[0m\n\u001b[1;32m----> 3\u001b[1;33m \u001b[0mplot_bins\u001b[0m\u001b[1;33m(\u001b[0m\u001b[0mmodel\u001b[0m\u001b[1;33m,\u001b[0m \u001b[0mX_test\u001b[0m\u001b[1;33m[\u001b[0m\u001b[0mmodel_features\u001b[0m\u001b[1;33m]\u001b[0m\u001b[1;33m,\u001b[0m \u001b[0my_test\u001b[0m\u001b[1;33m)\u001b[0m\u001b[1;33m\u001b[0m\u001b[1;33m\u001b[0m\u001b[0m\n\u001b[0m",
      "\u001b[1;32m<ipython-input-74-a58836f85a67>\u001b[0m in \u001b[0;36mplot_bins\u001b[1;34m(model, X, y, bins, title)\u001b[0m\n\u001b[0;32m      2\u001b[0m     \u001b[0mq\u001b[0m\u001b[1;33m=\u001b[0m\u001b[0mpd\u001b[0m\u001b[1;33m.\u001b[0m\u001b[0mqcut\u001b[0m\u001b[1;33m(\u001b[0m\u001b[0my\u001b[0m\u001b[1;33m,\u001b[0m \u001b[0mbins\u001b[0m\u001b[1;33m)\u001b[0m \u001b[1;31m#magical pandas function, makes quantiles (10 in this case)\u001b[0m\u001b[1;33m\u001b[0m\u001b[1;33m\u001b[0m\u001b[0m\n\u001b[0;32m      3\u001b[0m     \u001b[0mframe\u001b[0m\u001b[1;33m=\u001b[0m\u001b[0mpd\u001b[0m\u001b[1;33m.\u001b[0m\u001b[0mDataFrame\u001b[0m\u001b[1;33m(\u001b[0m\u001b[0mq\u001b[0m\u001b[1;33m)\u001b[0m \u001b[1;31m#takes cuts into a df so you can do groupby later\u001b[0m\u001b[1;33m\u001b[0m\u001b[1;33m\u001b[0m\u001b[0m\n\u001b[1;32m----> 4\u001b[1;33m     \u001b[0mframe\u001b[0m\u001b[1;33m[\u001b[0m\u001b[1;34m'error'\u001b[0m\u001b[1;33m]\u001b[0m\u001b[1;33m=\u001b[0m\u001b[0mmodel\u001b[0m\u001b[1;33m.\u001b[0m\u001b[0mpredict\u001b[0m\u001b[1;33m(\u001b[0m\u001b[0mX\u001b[0m\u001b[1;33m)\u001b[0m\u001b[1;33m-\u001b[0m\u001b[0my\u001b[0m \u001b[1;31m#estimates error\u001b[0m\u001b[1;33m\u001b[0m\u001b[1;33m\u001b[0m\u001b[0m\n\u001b[0m\u001b[0;32m      5\u001b[0m     \u001b[0mframe\u001b[0m\u001b[1;33m.\u001b[0m\u001b[0mcolumns\u001b[0m \u001b[1;33m=\u001b[0m \u001b[1;33m[\u001b[0m\u001b[1;34m'bins'\u001b[0m\u001b[1;33m,\u001b[0m \u001b[1;34m'errors'\u001b[0m\u001b[1;33m]\u001b[0m \u001b[1;31m#reset column names\u001b[0m\u001b[1;33m\u001b[0m\u001b[1;33m\u001b[0m\u001b[0m\n\u001b[0;32m      6\u001b[0m     \u001b[0mavg\u001b[0m\u001b[1;33m=\u001b[0m\u001b[0mframe\u001b[0m\u001b[1;33m.\u001b[0m\u001b[0mgroupby\u001b[0m\u001b[1;33m(\u001b[0m\u001b[1;34m'bins'\u001b[0m\u001b[1;33m)\u001b[0m\u001b[1;33m.\u001b[0m\u001b[0mmean\u001b[0m\u001b[1;33m(\u001b[0m\u001b[1;33m)\u001b[0m\u001b[1;33m\u001b[0m\u001b[1;33m\u001b[0m\u001b[0m\n",
      "\u001b[1;31mAttributeError\u001b[0m: 'function' object has no attribute 'predict'"
     ]
    }
   ],
   "source": [
    "#run plot_bins function: needs name of model output and values specified by running the model, \n",
    "# e.g., (model6, X_test[model_features], y_test)\n",
    "plot_bins(model, X_test[model_features], y_test)"
   ]
  },
  {
   "cell_type": "markdown",
   "metadata": {
    "tags": []
   },
   "source": [
    "### model2: all numerical values unscaled"
   ]
  },
  {
   "cell_type": "code",
   "execution_count": 39,
   "metadata": {},
   "outputs": [
    {
     "name": "stdout",
     "output_type": "stream",
     "text": [
      "train error 226809.3163724381\n",
      "test error 225347.17138654357\n",
      "difference: -1462.144985894527\n",
      "coefficient of determination: 0.6180358986328702\n",
      "intercept: -3908662.141204477\n"
     ]
    },
    {
     "data": {
      "text/plain": [
       "LinearRegression()"
      ]
     },
     "execution_count": 39,
     "metadata": {},
     "output_type": "execute_result"
    }
   ],
   "source": [
    "model_features = ['bedrooms', 'bathrooms', 'sqft_living', 'sqft_lot', 'floors',\n",
    "       'condition', 'grade', 'sqft_above', 'yr_built', 'zipcode',\n",
    "       'sqft_living15', 'sqft_lot15', 'area_basement']\n",
    "model_2_results = mrmodel(X_train, X_test, y_train, y_test, model_features)\n",
    "model_2_results"
   ]
  },
  {
   "cell_type": "code",
   "execution_count": null,
   "metadata": {
    "tags": []
   },
   "outputs": [],
   "source": [
    "#run full model w/ all predictors\n",
    "#update with new model that includes the updated array of dropped X values\n",
    "# model2 = LinearRegression()\n",
    "# model2.fit(X_train_pared, y_train)"
   ]
  },
  {
   "cell_type": "markdown",
   "metadata": {},
   "source": [
    "### save this code for visualizing model output"
   ]
  },
  {
   "cell_type": "code",
   "execution_count": null,
   "metadata": {},
   "outputs": [],
   "source": [
    "#build on this by adding model performance across quantiles of price data using pd.qcut\n",
    "# model_info = pd.DataFrame([('intercept', model2.intercept_)] + list(zip(X_train_pared.columns, model2.coef_)), columns=['feature', 'weight'])\n",
    "# plt.figure(figsize=(15,6))\n",
    "# plt.bar(model_info.feature[1:], model_info.weight[1:])\n",
    "# model_info"
   ]
  },
  {
   "cell_type": "code",
   "execution_count": null,
   "metadata": {},
   "outputs": [],
   "source": [
    "#interpret the error & fit of the model\n",
    "# train_preds = model2.predict(X_train_pared)\n",
    "# test_preds = model2.predict(X_test_pared)\n",
    "\n",
    "# train_error = mean_squared_error(y_train, train_preds, squared=False)\n",
    "# test_error = mean_squared_error(y_test, test_preds, squared=False)\n",
    "# print('train error', train_error)\n",
    "# print('test error', test_error)\n",
    "\n",
    "# r_sq = model2.score(X_train_pared, y_train)\n",
    "# print('coefficient of determination:', r_sq)\n",
    "# print('intercept:', model2.intercept_)\n",
    "# intercept: 5.633333333333329\n",
    "# print('slopes:', model2.coef_)\n",
    "# #coefficients = pd.concat([pd.DataFrame(X.columns),pd.DataFrame(np.transpose(model2.coef_))], axis = 1)\n",
    "# print(coefficients)"
   ]
  },
  {
   "cell_type": "markdown",
   "metadata": {},
   "source": [
    "#### Model 3: run model 2 scaled"
   ]
  },
  {
   "cell_type": "code",
   "execution_count": 47,
   "metadata": {},
   "outputs": [],
   "source": [
    "#scale training data\n",
    "scaler = RobustScaler() #there are other options\n",
    "scaler.fit(X_train_pared) #do this in first step w/ only train data\n",
    "X_train_scaled = scaler.transform(X_train_pared) "
   ]
  },
  {
   "cell_type": "code",
   "execution_count": 48,
   "metadata": {},
   "outputs": [],
   "source": [
    "# Scale the test set, with same scalar\n",
    "X_test_scaled = scaler.transform(X_test_pared)"
   ]
  },
  {
   "cell_type": "code",
   "execution_count": 52,
   "metadata": {},
   "outputs": [
    {
     "name": "stdout",
     "output_type": "stream",
     "text": [
      "train error 226809.3163724381\n",
      "test error 225347.17138654357\n",
      "difference: -1462.144985894527\n",
      "coefficient of determination: 0.6180358986328702\n",
      "intercept: -3908662.141204477\n"
     ]
    },
    {
     "data": {
      "text/plain": [
       "LinearRegression()"
      ]
     },
     "execution_count": 52,
     "metadata": {},
     "output_type": "execute_result"
    }
   ],
   "source": [
    "model_features = ['bedrooms', 'bathrooms', 'sqft_living', 'sqft_lot', 'floors',\n",
    "       'condition', 'grade', 'sqft_above', 'yr_built', 'zipcode',\n",
    "       'sqft_living15', 'sqft_lot15', 'area_basement']\n",
    "\n",
    "model_3_results = mrmodel(X_train, X_test, y_train, y_test, model_features)\n",
    "model_3_results"
   ]
  },
  {
   "cell_type": "code",
   "execution_count": null,
   "metadata": {},
   "outputs": [],
   "source": [
    "#run full model w/ all predictors scaled\n",
    "# model3 = LinearRegression()\n",
    "# model3.fit(X_train_scaled, y_train)"
   ]
  },
  {
   "cell_type": "code",
   "execution_count": null,
   "metadata": {},
   "outputs": [],
   "source": [
    "#interpret the error & fit of the model\n",
    "# train_preds = model3.predict(X_train_scaled)\n",
    "# test_preds = model3.predict(X_test_scaled)\n",
    "\n",
    "# train_error = mean_squared_error(y_train, train_preds, squared=False)\n",
    "# test_error = mean_squared_error(y_test, test_preds, squared=False)\n",
    "# print('train error', train_error)\n",
    "# print('test error', test_error)\n",
    "\n",
    "# r_sq = model3.score(X_train_scaled, y_train)\n",
    "# print('coefficient of determination:', r_sq)\n",
    "# print('intercept:', model3.intercept_)\n",
    "# intercept: 5.633333333333329\n",
    "# print('slopes:', model3.coef_)"
   ]
  },
  {
   "cell_type": "markdown",
   "metadata": {},
   "source": [
    "### Model4: re-run model 3 w/ log price"
   ]
  },
  {
   "cell_type": "code",
   "execution_count": null,
   "metadata": {},
   "outputs": [],
   "source": [
    "df_3 = df_2.copy()\n",
    "df_3.head()"
   ]
  },
  {
   "cell_type": "code",
   "execution_count": null,
   "metadata": {},
   "outputs": [],
   "source": [
    "df_3['log_price'] = np.log(df_3['price'])"
   ]
  },
  {
   "cell_type": "code",
   "execution_count": null,
   "metadata": {},
   "outputs": [],
   "source": [
    "#set X & y variables\n",
    "X = df_3.drop(['price', 'log_price'], axis = 1)\n",
    "y = df_3['log_price']"
   ]
  },
  {
   "cell_type": "code",
   "execution_count": null,
   "metadata": {},
   "outputs": [],
   "source": [
    "#train_test_split\n",
    "X_train, X_test, y_train, y_test = train_test_split(X, y, test_size=0.30, random_state=2021)"
   ]
  },
  {
   "cell_type": "code",
   "execution_count": null,
   "metadata": {},
   "outputs": [],
   "source": [
    "X_train_4 =X_train[['bedrooms', 'bathrooms', 'sqft_living', 'sqft_lot', 'floors',\n",
    "       'condition', 'grade', 'sqft_above', 'yr_built', 'zipcode',\n",
    "       'sqft_living15', 'sqft_lot15', 'area_basement']]\n",
    "X_test_4 = X_test[['bedrooms', 'bathrooms', 'sqft_living', 'sqft_lot', 'floors',\n",
    "       'condition', 'grade', 'sqft_above', 'yr_built', 'zipcode',\n",
    "       'sqft_living15', 'sqft_lot15', 'area_basement']]"
   ]
  },
  {
   "cell_type": "code",
   "execution_count": null,
   "metadata": {},
   "outputs": [],
   "source": [
    "print(f\"X_train_4 is this big: {X_train_4.shape}\")\n",
    "print(f\"X_test_4 is this big: {X_test_4.shape}\")\n",
    "print(f\"y_train is this big: {y_train.shape}\")\n",
    "print(f\"y_test is this big: {y_test.shape}\")"
   ]
  },
  {
   "cell_type": "code",
   "execution_count": null,
   "metadata": {},
   "outputs": [],
   "source": [
    "#run full model w/ all predictors\n",
    "#update with new model that includes the updated array of dropped X values\n",
    "model4 = LinearRegression()\n",
    "model4.fit(X_train_4, y_train)"
   ]
  },
  {
   "cell_type": "code",
   "execution_count": null,
   "metadata": {},
   "outputs": [],
   "source": [
    "#interpret the error & fit of the model\n",
    "train_preds = model4.predict(X_train_4)\n",
    "test_preds = model4.predict(X_test_4)\n",
    "\n",
    "train_error = mean_squared_error(y_train, train_preds, squared=False)\n",
    "test_error = mean_squared_error(y_test, test_preds, squared=False)\n",
    "print('train error', train_error)\n",
    "print('test error', test_error)\n",
    "\n",
    "r_sq = model4.score(X_train_4, y_train)\n",
    "print('coefficient of determination:', r_sq)\n",
    "print('intercept:', model4.intercept_)\n",
    "#intercept: 5.633333333333329\n",
    "print('slopes:', model4.coef_)"
   ]
  },
  {
   "cell_type": "markdown",
   "metadata": {},
   "source": [
    "1. Find the difference between true y and predicted y\n",
    "2. Plot predicted y on the x axis and error on y axis (scatter plot)"
   ]
  },
  {
   "cell_type": "markdown",
   "metadata": {},
   "source": [
    "### model5: simplified model 3 w/ fewer features"
   ]
  },
  {
   "cell_type": "code",
   "execution_count": 41,
   "metadata": {},
   "outputs": [
    {
     "name": "stdout",
     "output_type": "stream",
     "text": [
      "train error 227518.65418879347\n",
      "test error 226215.79849525375\n",
      "difference: -1302.855693539721\n",
      "coefficient of determination: 0.6156430052027546\n",
      "intercept: -3600607.543274485\n"
     ]
    },
    {
     "data": {
      "text/plain": [
       "LinearRegression()"
      ]
     },
     "execution_count": 41,
     "metadata": {},
     "output_type": "execute_result"
    }
   ],
   "source": [
    "model_features = ['bedrooms', 'bathrooms', 'sqft_living', 'sqft_lot', 'floors',\n",
    "       'condition', 'grade', 'yr_built', 'zipcode']\n",
    "\n",
    "model_5_results = mrmodel(X_train, X_test, y_train, y_test, model_features)\n",
    "model_5_results"
   ]
  },
  {
   "cell_type": "markdown",
   "metadata": {},
   "source": [
    "#### this more simple model results in poorer performance"
   ]
  },
  {
   "cell_type": "markdown",
   "metadata": {},
   "source": [
    "### Model6: adding new interaction features that Emma identified among all possible 2-way combinations"
   ]
  },
  {
   "cell_type": "code",
   "execution_count": 77,
   "metadata": {},
   "outputs": [],
   "source": [
    "#new df to work with given new features\n",
    "df_3 = df.copy()"
   ]
  },
  {
   "cell_type": "code",
   "execution_count": 81,
   "metadata": {},
   "outputs": [],
   "source": [
    "df_3['living*bath'] = df_3['sqft_living']*df_3['bathrooms']\n",
    "df_3['living*grade'] = df_3['sqft_living']*df_3['grade']\n",
    "df_3['grade*bath'] = df_3['grade']*df_3['bathrooms']\n",
    "df_3.view = df_3.view.replace(np.nan, 0)\n",
    "df_3.waterfront = df_3.waterfront.replace(np.nan, 0)\n",
    "#df_3.head()"
   ]
  },
  {
   "cell_type": "code",
   "execution_count": 79,
   "metadata": {},
   "outputs": [],
   "source": [
    "#set X & y variables\n",
    "X = df_3.drop(['price'], axis = 1)\n",
    "y = df_3['price']"
   ]
  },
  {
   "cell_type": "code",
   "execution_count": 80,
   "metadata": {},
   "outputs": [],
   "source": [
    "#train_test_split\n",
    "X_train, X_test, y_train, y_test = train_test_split(X, y, test_size=0.30, random_state=2021)"
   ]
  },
  {
   "cell_type": "code",
   "execution_count": 203,
   "metadata": {},
   "outputs": [
    {
     "name": "stdout",
     "output_type": "stream",
     "text": [
      "train error 187242.47643603454\n",
      "test error 188290.74265648978\n",
      "difference: 1048.2662204552325\n",
      "coefficient of determination: 0.7396788095674223\n",
      "intercept: 8900706.742211593\n",
      "          feature        weight\n",
      "0       intercept  8.900707e+06\n",
      "1        bedrooms -1.212653e+04\n",
      "2       bathrooms -7.158496e+03\n",
      "3     sqft_living -1.613017e+02\n",
      "4        sqft_lot  4.212476e-02\n",
      "5          floors  4.305385e+04\n",
      "6       condition  3.462466e+04\n",
      "7           grade  1.768478e+04\n",
      "8      sqft_above -8.927252e+01\n",
      "9        yr_built -2.276464e+03\n",
      "10        zipcode -5.562567e+02\n",
      "11  sqft_living15  3.663995e+01\n",
      "12     sqft_lot15 -3.275387e-01\n",
      "13  area_basement -7.202915e+01\n",
      "14     grade*bath -1.905096e+02\n",
      "15   living*grade  3.630921e+01\n",
      "16    living*bath  2.587920e+01\n",
      "17            lat  5.962597e+05\n",
      "18     waterfront  5.711090e+05\n",
      "19           long -1.780575e+05\n",
      "20           view  4.819872e+04\n"
     ]
    },
    {
     "data": {
      "text/plain": [
       "(LinearRegression(),\n",
       "        bedrooms  bathrooms  sqft_living  sqft_lot  floors  condition  grade  \\\n",
       " 6871          3       2.25         1646     12414     2.0          3      7   \n",
       " 14036         3       1.75         1730     11325     1.0          5      7   \n",
       " 14885         4       5.00         4110     43560     2.0          4     11   \n",
       " 20431         3       1.50         1010      1546     2.0          3      8   \n",
       " 17834         3       2.25         2440      8378     1.0          3      7   \n",
       " ...         ...        ...          ...       ...     ...        ...    ...   \n",
       " 16347         3       1.50         1460     11100     1.0          3      7   \n",
       " 20318         3       2.50         1950      4345     2.0          3      7   \n",
       " 2669          6       1.75         2490      8732     1.5          4      8   \n",
       " 17536         3       1.50         1170      4950     1.0          4      7   \n",
       " 6201          2       1.00         1300      6731     1.0          3      7   \n",
       " \n",
       "        sqft_above  yr_built  zipcode  sqft_living15  sqft_lot15  \\\n",
       " 6871         1646      1996    98038           1654        8734   \n",
       " 14036        1730      1972    98031           2030       17859   \n",
       " 14885        4110      1978    98005           3650       43995   \n",
       " 20431        1010      1971    98144           1010        1517   \n",
       " 17834        1480      1962    98028           2510        9602   \n",
       " ...           ...       ...      ...            ...         ...   \n",
       " 16347        1460      1956    98003           1460       11100   \n",
       " 20318        1950      2007    98065           2260        4345   \n",
       " 2669         2490      1966    98034           1840        8024   \n",
       " 17536        1170      1960    98007           1570        7700   \n",
       " 6201         1300      1950    98116           1240        6731   \n",
       " \n",
       "        area_basement  grade*bath  living*grade  living*bath      lat  \\\n",
       " 6871               0       15.75         11522       3703.5  47.3630   \n",
       " 14036              0       12.25         12110       3027.5  47.3921   \n",
       " 14885              0       55.00         45210      20550.0  47.6353   \n",
       " 20431              0       12.00          8080       1515.0  47.5998   \n",
       " 17834            960       15.75         17080       5490.0  47.7705   \n",
       " ...              ...         ...           ...          ...      ...   \n",
       " 16347              0       10.50         10220       2190.0  47.3253   \n",
       " 20318              0       17.50         13650       4875.0  47.5202   \n",
       " 2669               0       14.00         19920       4357.5  47.7252   \n",
       " 17536              0       10.50          8190       1755.0  47.6057   \n",
       " 6201               0        7.00          9100       1300.0  47.5697   \n",
       " \n",
       "        waterfront     long  view  \n",
       " 6871          0.0 -122.035   0.0  \n",
       " 14036         0.0 -122.182   0.0  \n",
       " 14885         0.0 -122.180   0.0  \n",
       " 20431         0.0 -122.311   0.0  \n",
       " 17834         0.0 -122.260   0.0  \n",
       " ...           ...      ...   ...  \n",
       " 16347         0.0 -122.298   0.0  \n",
       " 20318         0.0 -121.873   0.0  \n",
       " 2669          0.0 -122.187   0.0  \n",
       " 17536         0.0 -122.135   0.0  \n",
       " 6201          0.0 -122.395   0.0  \n",
       " \n",
       " [15117 rows x 20 columns],\n",
       "        bedrooms  bathrooms  sqft_living  sqft_lot  floors  condition  grade  \\\n",
       " 16925         2       1.50         1140     14373     1.0          3      7   \n",
       " 10808         5       2.75         2400      7904     1.0          3      7   \n",
       " 9088          3       2.75         1900      8200     2.0          4      7   \n",
       " 10096         3       1.75         1740      8800     1.0          3      7   \n",
       " 4414          4       2.50         3190     49658     2.0          3     10   \n",
       " ...         ...        ...          ...       ...     ...        ...    ...   \n",
       " 7488          5       3.00         2670     11761     1.0          3      7   \n",
       " 2657          3       1.50         1510      9898     1.0          3      7   \n",
       " 10756         4       2.50         2670      5895     2.0          3      8   \n",
       " 5550          3       2.25         1750      9353     1.0          3      7   \n",
       " 21373         4       2.50         2190      4866     2.0          3      7   \n",
       " \n",
       "        sqft_above  yr_built  zipcode  sqft_living15  sqft_lot15  \\\n",
       " 16925        1140      1949    98011           2140        9860   \n",
       " 10808        1450      1992    98188           2400        7475   \n",
       " 9088         1900      1984    98031           1620        8200   \n",
       " 10096        1140      1978    98023           1690        7920   \n",
       " 4414         3190      1999    98074           3040       49658   \n",
       " ...           ...       ...      ...            ...         ...   \n",
       " 7488         1370      1981    98052           2580       10703   \n",
       " 2657         1110      1954    98148           1420        9250   \n",
       " 10756        2670      1999    98074           2820        6531   \n",
       " 5550         1210      1987    98034           1930        8545   \n",
       " 21373        2190      2009    98059           2190        5670   \n",
       " \n",
       "        area_basement  grade*bath  living*grade  living*bath      lat  \\\n",
       " 16925              0       10.50          7980       1710.0  47.7354   \n",
       " 10808            950       19.25         16800       6600.0  47.4683   \n",
       " 9088               0       19.25         13300       5225.0  47.4020   \n",
       " 10096            600       12.25         12180       3045.0  47.2968   \n",
       " 4414               0       25.00         31900       7975.0  47.6216   \n",
       " ...              ...         ...           ...          ...      ...   \n",
       " 7488            1300       21.00         18690       8010.0  47.6895   \n",
       " 2657             400       10.50         10570       2265.0  47.4303   \n",
       " 10756              0       20.00         21360       6675.0  47.6066   \n",
       " 5550             540       15.75         12250       3937.5  47.7305   \n",
       " 21373              0       17.50         15330       5475.0  47.4907   \n",
       " \n",
       "        waterfront     long  view  \n",
       " 16925         0.0 -122.219   0.0  \n",
       " 10808         0.0 -122.263   0.0  \n",
       " 9088          0.0 -122.183   0.0  \n",
       " 10096         0.0 -122.372   0.0  \n",
       " 4414          0.0 -122.015   0.0  \n",
       " ...           ...      ...   ...  \n",
       " 7488          0.0 -122.129   0.0  \n",
       " 2657          0.0 -122.334   0.0  \n",
       " 10756         0.0 -122.016   0.0  \n",
       " 5550          0.0 -122.225   0.0  \n",
       " 21373         0.0 -122.152   0.0  \n",
       " \n",
       " [6480 rows x 20 columns],\n",
       "           feature        weight\n",
       " 0       intercept  8.900707e+06\n",
       " 1        bedrooms -1.212653e+04\n",
       " 2       bathrooms -7.158496e+03\n",
       " 3     sqft_living -1.613017e+02\n",
       " 4        sqft_lot  4.212476e-02\n",
       " 5          floors  4.305385e+04\n",
       " 6       condition  3.462466e+04\n",
       " 7           grade  1.768478e+04\n",
       " 8      sqft_above -8.927252e+01\n",
       " 9        yr_built -2.276464e+03\n",
       " 10        zipcode -5.562567e+02\n",
       " 11  sqft_living15  3.663995e+01\n",
       " 12     sqft_lot15 -3.275387e-01\n",
       " 13  area_basement -7.202915e+01\n",
       " 14     grade*bath -1.905096e+02\n",
       " 15   living*grade  3.630921e+01\n",
       " 16    living*bath  2.587920e+01\n",
       " 17            lat  5.962597e+05\n",
       " 18     waterfront  5.711090e+05\n",
       " 19           long -1.780575e+05\n",
       " 20           view  4.819872e+04)"
      ]
     },
     "execution_count": 203,
     "metadata": {},
     "output_type": "execute_result"
    }
   ],
   "source": [
    "model_features = ['bedrooms', 'bathrooms', 'sqft_living', 'sqft_lot', 'floors',\n",
    "       'condition', 'grade', 'sqft_above', 'yr_built', 'zipcode',\n",
    "       'sqft_living15', 'sqft_lot15', 'area_basement', 'grade*bath', \n",
    "        'living*grade', 'living*bath', 'lat', 'waterfront', 'long', 'view']\n",
    "\n",
    "model_6_results = mrmodel(X_train, X_test, y_train, y_test, model_features)\n",
    "model_6_results"
   ]
  },
  {
   "cell_type": "code",
   "execution_count": 43,
   "metadata": {},
   "outputs": [],
   "source": [
    "def plot_bins(model, X, y, bins=10, title='binned error'):\n",
    "    q=pd.qcut(y, bins) #magical pandas function, makes quantiles (10 in this case)\n",
    "    frame=pd.DataFrame(q) #takes cuts into a df so you can do groupby later\n",
    "    frame['error']=model.predict(X)-y #estimates error\n",
    "    frame.columns = ['bins', 'errors'] #reset column names\n",
    "#     sdev=frame.groupby('bins').std()\n",
    "#     avg=frame.groupby('bins').mean() #gather all obs in each bin & take avg of them all\n",
    "    avg=frame.groupby('bins').mean()\n",
    "    avg['std']=frame.groupby('bins').std().iloc[:,0]\n",
    "    avg.rename(columns={'bins':'mean'}, inplace=True)\n",
    "    avg.plot(kind='bar', figsize=(15,6), title=title)\n",
    "    \n",
    "    "
   ]
  },
  {
   "cell_type": "code",
   "execution_count": 45,
   "metadata": {},
   "outputs": [
    {
     "data": {
      "text/plain": [
       "<function __main__.model(X_train, X_test, y_train, y_test, features)>"
      ]
     },
     "execution_count": 45,
     "metadata": {},
     "output_type": "execute_result"
    }
   ],
   "source": []
  },
  {
   "cell_type": "code",
   "execution_count": 191,
   "metadata": {},
   "outputs": [
    {
     "data": {
      "image/png": "[encoded data removed]",
      "text/plain": [
       "<Figure size 1080x432 with 1 Axes>"
      ]
     },
     "metadata": {
      "needs_background": "light"
     },
     "output_type": "display_data"
    }
   ],
   "source": [
    "model6=LinearRegression()\n",
    "model6.fit(X_train[model_features], y_train)\n",
    "plot_bins(model6, X_test[model_features], y_test)"
   ]
  },
  {
   "cell_type": "code",
   "execution_count": null,
   "metadata": {},
   "outputs": [],
   "source": [
    "#some possible options: 1) polynomial, 2) an if:then function w/in model to only apply predictors in particular ranges\n",
    "# 3) bin zip codes into categories & do OneHotEncoding 4) look for feature engineering that would decrease error across\n",
    "# lower cost houses 5) transformations of non-linear predictors 6) log transforming price & looking at performance across bins"
   ]
  },
  {
   "cell_type": "markdown",
   "metadata": {},
   "source": [
    "### Model 7: polynomial model"
   ]
  },
  {
   "cell_type": "code",
   "execution_count": 56,
   "metadata": {},
   "outputs": [
    {
     "data": {
      "text/plain": [
       "Index(['id', 'date', 'price', 'bedrooms', 'bathrooms', 'sqft_living',\n",
       "       'sqft_lot', 'floors', 'waterfront', 'view', 'condition', 'grade',\n",
       "       'sqft_above', 'sqft_basement', 'yr_built', 'yr_renovated', 'zipcode',\n",
       "       'lat', 'long', 'sqft_living15', 'sqft_lot15', 'area_basement',\n",
       "       'living*bath', 'living*grade', 'bath*bed'],\n",
       "      dtype='object')"
      ]
     },
     "execution_count": 56,
     "metadata": {},
     "output_type": "execute_result"
    }
   ],
   "source": [
    "df_3.columns"
   ]
  },
  {
   "cell_type": "code",
   "execution_count": 192,
   "metadata": {},
   "outputs": [],
   "source": [
    "#make a new df to work with out of habit\n",
    "df_4 = df_3.copy()\n",
    "df_4 = df_4.drop(['id', 'date', 'yr_renovated'], axis=1)\n",
    "#set X & y variables\n",
    "X = df_4.drop(['price'], axis = 1)\n",
    "y = df_4['price']"
   ]
  },
  {
   "cell_type": "code",
   "execution_count": 193,
   "metadata": {},
   "outputs": [
    {
     "data": {
      "text/plain": [
       "price            0\n",
       "bedrooms         0\n",
       "bathrooms        0\n",
       "sqft_living      0\n",
       "sqft_lot         0\n",
       "floors           0\n",
       "waterfront       0\n",
       "view             0\n",
       "condition        0\n",
       "grade            0\n",
       "sqft_above       0\n",
       "sqft_basement    0\n",
       "yr_built         0\n",
       "zipcode          0\n",
       "lat              0\n",
       "long             0\n",
       "sqft_living15    0\n",
       "sqft_lot15       0\n",
       "area_basement    0\n",
       "living*bath      0\n",
       "living*grade     0\n",
       "grade*bath       0\n",
       "dtype: int64"
      ]
     },
     "execution_count": 193,
     "metadata": {},
     "output_type": "execute_result"
    }
   ],
   "source": [
    "df_4.isna().sum()"
   ]
  },
  {
   "cell_type": "code",
   "execution_count": 194,
   "metadata": {},
   "outputs": [],
   "source": [
    "#train_test_split\n",
    "X_train, X_test, y_train, y_test = train_test_split(X, y, test_size=0.30, random_state=2021)"
   ]
  },
  {
   "cell_type": "code",
   "execution_count": 195,
   "metadata": {},
   "outputs": [],
   "source": [
    "# Instantiate PolynomialFeatures\n",
    "poly = PolynomialFeatures(2)\n",
    "# Fit and transform X_train\n",
    "X_poly_fit = poly.fit(X_train)\n",
    "X_poly_train = poly.transform(X_train)\n",
    "    \n",
    "# Instantiate and fit a linear regression model to the polynomial transformed train features\n",
    "reg_poly = LinearRegression().fit(X_poly_train, y_train)\n",
    "    \n",
    "# Transform the test data into polynomial features\n",
    "X_poly_test = poly.transform(X_test)\n",
    "    \n",
    "# Get predicted values for transformed polynomial test data  \n",
    "y_pred = reg_poly.predict(X_poly_test)\n",
    "    \n",
    "# Evaluate model performance on test data\n",
    "r_sq = r2_score(y_test, y_pred)\n",
    "    \n",
    "# Transform the full data\n",
    "X_poly = poly.transform(X)\n",
    "    \n",
    "# Now, we want to see what the model predicts for the entire data  \n",
    "y_poly = reg_poly.predict(X_poly)"
   ]
  },
  {
   "cell_type": "code",
   "execution_count": 196,
   "metadata": {},
   "outputs": [
    {
     "name": "stdout",
     "output_type": "stream",
     "text": [
      "train error 147269.19903609788\n",
      "test error 165436.39187948158\n",
      "difference: 18167.192843383702\n",
      "coefficient of determination: 0.7981412622564863\n",
      "intercept: 22729406692.754795\n"
     ]
    }
   ],
   "source": [
    "#interpret the error & fit of the model\n",
    "train_preds = reg_poly.predict(X_poly_train)\n",
    "test_preds = reg_poly.predict(X_poly_test)\n",
    "\n",
    "train_error = mean_squared_error(y_train, train_preds, squared=False)\n",
    "test_error = mean_squared_error(y_test, test_preds, squared=False)\n",
    "print('train error', train_error)\n",
    "print('test error', test_error)\n",
    "difference = test_error - train_error\n",
    "print(f'difference: {difference}')\n",
    "\n",
    "print('coefficient of determination:', r_sq)\n",
    "print('intercept:', reg_poly.intercept_)\n",
    "#intercept: 5.633333333333329\n",
    "#print('slopes:', reg_poly.coef_)"
   ]
  },
  {
   "cell_type": "code",
   "execution_count": 197,
   "metadata": {},
   "outputs": [
    {
     "data": {
      "image/png": "[encoded data removed]",
      "text/plain": [
       "<Figure size 432x288 with 2 Axes>"
      ]
     },
     "metadata": {
      "needs_background": "light"
     },
     "output_type": "display_data"
    },
    {
     "data": {
      "text/plain": [
       "<AxesSubplot:title={'center':'Residuals for LinearRegression Model'}, xlabel='Predicted Value', ylabel='Residuals'>"
      ]
     },
     "execution_count": 197,
     "metadata": {},
     "output_type": "execute_result"
    }
   ],
   "source": [
    "# Instantiate the visualizer\n",
    "visualizer = ResidualsPlot(reg_poly)\n",
    "visualizer.fit(X_poly_train, y_train)  # Fit the training data to the visualizer\n",
    "visualizer.score(X_poly_test, y_test)  # Evaluate the model on the test data\n",
    "visualizer.show()                 # Finalize and render the figure"
   ]
  },
  {
   "cell_type": "code",
   "execution_count": 165,
   "metadata": {},
   "outputs": [
    {
     "name": "stderr",
     "output_type": "stream",
     "text": [
      "<ipython-input-165-d93728ddafa8>:1: SettingWithCopyWarning: \n",
      "A value is trying to be set on a copy of a slice from a DataFrame.\n",
      "Try using .loc[row_indexer,col_indexer] = value instead\n",
      "\n",
      "See the caveats in the documentation: https://pandas.pydata.org/pandas-docs/stable/user_guide/indexing.html#returning-a-view-versus-a-copy\n",
      "  X_train['price'] = y\n",
      "<ipython-input-165-d93728ddafa8>:2: SettingWithCopyWarning: \n",
      "A value is trying to be set on a copy of a slice from a DataFrame.\n",
      "Try using .loc[row_indexer,col_indexer] = value instead\n",
      "\n",
      "See the caveats in the documentation: https://pandas.pydata.org/pandas-docs/stable/user_guide/indexing.html#returning-a-view-versus-a-copy\n",
      "  X_train['resid'] = np.abs(y_train-train_preds)\n"
     ]
    },
    {
     "data": {
      "text/html": [
       "<div>\n",
       "<style scoped>\n",
       "    .dataframe tbody tr th:only-of-type {\n",
       "        vertical-align: middle;\n",
       "    }\n",
       "\n",
       "    .dataframe tbody tr th {\n",
       "        vertical-align: top;\n",
       "    }\n",
       "\n",
       "    .dataframe thead th {\n",
       "        text-align: right;\n",
       "    }\n",
       "</style>\n",
       "<table border=\"1\" class=\"dataframe\">\n",
       "  <thead>\n",
       "    <tr style=\"text-align: right;\">\n",
       "      <th></th>\n",
       "      <th>id</th>\n",
       "      <th>date</th>\n",
       "      <th>bedrooms</th>\n",
       "      <th>bathrooms</th>\n",
       "      <th>sqft_living</th>\n",
       "      <th>sqft_lot</th>\n",
       "      <th>floors</th>\n",
       "      <th>waterfront</th>\n",
       "      <th>view</th>\n",
       "      <th>condition</th>\n",
       "      <th>...</th>\n",
       "      <th>yr_built</th>\n",
       "      <th>yr_renovated</th>\n",
       "      <th>zipcode</th>\n",
       "      <th>lat</th>\n",
       "      <th>long</th>\n",
       "      <th>sqft_living15</th>\n",
       "      <th>sqft_lot15</th>\n",
       "      <th>area_basement</th>\n",
       "      <th>resid</th>\n",
       "      <th>price</th>\n",
       "    </tr>\n",
       "  </thead>\n",
       "  <tbody>\n",
       "    <tr>\n",
       "      <th>7245</th>\n",
       "      <td>6762700020</td>\n",
       "      <td>10/13/2014</td>\n",
       "      <td>6</td>\n",
       "      <td>8.00</td>\n",
       "      <td>12050</td>\n",
       "      <td>27600</td>\n",
       "      <td>2.5</td>\n",
       "      <td>0.0</td>\n",
       "      <td>3.0</td>\n",
       "      <td>4</td>\n",
       "      <td>...</td>\n",
       "      <td>1910</td>\n",
       "      <td>1987.0</td>\n",
       "      <td>98102</td>\n",
       "      <td>47.6298</td>\n",
       "      <td>-122.323</td>\n",
       "      <td>3940</td>\n",
       "      <td>8800</td>\n",
       "      <td>3480</td>\n",
       "      <td>4.350930e+06</td>\n",
       "      <td>7700000.0</td>\n",
       "    </tr>\n",
       "    <tr>\n",
       "      <th>3910</th>\n",
       "      <td>9808700762</td>\n",
       "      <td>6/11/2014</td>\n",
       "      <td>5</td>\n",
       "      <td>4.50</td>\n",
       "      <td>10040</td>\n",
       "      <td>37325</td>\n",
       "      <td>2.0</td>\n",
       "      <td>1.0</td>\n",
       "      <td>2.0</td>\n",
       "      <td>3</td>\n",
       "      <td>...</td>\n",
       "      <td>1940</td>\n",
       "      <td>2001.0</td>\n",
       "      <td>98004</td>\n",
       "      <td>47.6500</td>\n",
       "      <td>-122.214</td>\n",
       "      <td>3930</td>\n",
       "      <td>25449</td>\n",
       "      <td>2360</td>\n",
       "      <td>4.277474e+06</td>\n",
       "      <td>7060000.0</td>\n",
       "    </tr>\n",
       "    <tr>\n",
       "      <th>9245</th>\n",
       "      <td>9208900037</td>\n",
       "      <td>9/19/2014</td>\n",
       "      <td>6</td>\n",
       "      <td>7.75</td>\n",
       "      <td>9890</td>\n",
       "      <td>31374</td>\n",
       "      <td>2.0</td>\n",
       "      <td>0.0</td>\n",
       "      <td>4.0</td>\n",
       "      <td>3</td>\n",
       "      <td>...</td>\n",
       "      <td>2001</td>\n",
       "      <td>0.0</td>\n",
       "      <td>98039</td>\n",
       "      <td>47.6305</td>\n",
       "      <td>-122.240</td>\n",
       "      <td>4540</td>\n",
       "      <td>42730</td>\n",
       "      <td>1030</td>\n",
       "      <td>4.149754e+06</td>\n",
       "      <td>6890000.0</td>\n",
       "    </tr>\n",
       "    <tr>\n",
       "      <th>4407</th>\n",
       "      <td>2470100110</td>\n",
       "      <td>8/4/2014</td>\n",
       "      <td>5</td>\n",
       "      <td>5.75</td>\n",
       "      <td>9200</td>\n",
       "      <td>35069</td>\n",
       "      <td>2.0</td>\n",
       "      <td>0.0</td>\n",
       "      <td>0.0</td>\n",
       "      <td>3</td>\n",
       "      <td>...</td>\n",
       "      <td>2001</td>\n",
       "      <td>NaN</td>\n",
       "      <td>98039</td>\n",
       "      <td>47.6289</td>\n",
       "      <td>-122.233</td>\n",
       "      <td>3560</td>\n",
       "      <td>24345</td>\n",
       "      <td>3000</td>\n",
       "      <td>3.024239e+06</td>\n",
       "      <td>5570000.0</td>\n",
       "    </tr>\n",
       "  </tbody>\n",
       "</table>\n",
       "<p>4 rows × 23 columns</p>\n",
       "</div>"
      ],
      "text/plain": [
       "              id        date  bedrooms  bathrooms  sqft_living  sqft_lot  \\\n",
       "7245  6762700020  10/13/2014         6       8.00        12050     27600   \n",
       "3910  9808700762   6/11/2014         5       4.50        10040     37325   \n",
       "9245  9208900037   9/19/2014         6       7.75         9890     31374   \n",
       "4407  2470100110    8/4/2014         5       5.75         9200     35069   \n",
       "\n",
       "      floors  waterfront  view  condition  ...  yr_built  yr_renovated  \\\n",
       "7245     2.5         0.0   3.0          4  ...      1910        1987.0   \n",
       "3910     2.0         1.0   2.0          3  ...      1940        2001.0   \n",
       "9245     2.0         0.0   4.0          3  ...      2001           0.0   \n",
       "4407     2.0         0.0   0.0          3  ...      2001           NaN   \n",
       "\n",
       "      zipcode      lat     long  sqft_living15  sqft_lot15  area_basement  \\\n",
       "7245    98102  47.6298 -122.323           3940        8800           3480   \n",
       "3910    98004  47.6500 -122.214           3930       25449           2360   \n",
       "9245    98039  47.6305 -122.240           4540       42730           1030   \n",
       "4407    98039  47.6289 -122.233           3560       24345           3000   \n",
       "\n",
       "             resid      price  \n",
       "7245  4.350930e+06  7700000.0  \n",
       "3910  4.277474e+06  7060000.0  \n",
       "9245  4.149754e+06  6890000.0  \n",
       "4407  3.024239e+06  5570000.0  \n",
       "\n",
       "[4 rows x 23 columns]"
      ]
     },
     "execution_count": 165,
     "metadata": {},
     "output_type": "execute_result"
    }
   ],
   "source": [
    "X_train['price'] = y\n",
    "X_train['resid'] = np.abs(y_train-train_preds)\n",
    "X_train.loc[X_train['resid'] > 3000000]"
   ]
  },
  {
   "cell_type": "code",
   "execution_count": 170,
   "metadata": {},
   "outputs": [],
   "source": [
    "#dropping the crazy expensive houses\n",
    "df_4.drop(index = [7245, 3910, 9245, 4407], inplace=True)"
   ]
  },
  {
   "cell_type": "code",
   "execution_count": 177,
   "metadata": {},
   "outputs": [
    {
     "data": {
      "text/html": [
       "<div>\n",
       "<style scoped>\n",
       "    .dataframe tbody tr th:only-of-type {\n",
       "        vertical-align: middle;\n",
       "    }\n",
       "\n",
       "    .dataframe tbody tr th {\n",
       "        vertical-align: top;\n",
       "    }\n",
       "\n",
       "    .dataframe thead th {\n",
       "        text-align: right;\n",
       "    }\n",
       "</style>\n",
       "<table border=\"1\" class=\"dataframe\">\n",
       "  <thead>\n",
       "    <tr style=\"text-align: right;\">\n",
       "      <th></th>\n",
       "      <th>price</th>\n",
       "      <th>bedrooms</th>\n",
       "      <th>bathrooms</th>\n",
       "      <th>sqft_living</th>\n",
       "      <th>sqft_lot</th>\n",
       "      <th>floors</th>\n",
       "      <th>waterfront</th>\n",
       "      <th>view</th>\n",
       "      <th>condition</th>\n",
       "      <th>grade</th>\n",
       "      <th>...</th>\n",
       "      <th>yr_built</th>\n",
       "      <th>zipcode</th>\n",
       "      <th>lat</th>\n",
       "      <th>long</th>\n",
       "      <th>sqft_living15</th>\n",
       "      <th>sqft_lot15</th>\n",
       "      <th>area_basement</th>\n",
       "      <th>living*bath</th>\n",
       "      <th>living*grade</th>\n",
       "      <th>bath*bed</th>\n",
       "    </tr>\n",
       "  </thead>\n",
       "  <tbody>\n",
       "    <tr>\n",
       "      <th>1162</th>\n",
       "      <td>5110000.0</td>\n",
       "      <td>5</td>\n",
       "      <td>5.25</td>\n",
       "      <td>8010</td>\n",
       "      <td>45517</td>\n",
       "      <td>2.0</td>\n",
       "      <td>1.0</td>\n",
       "      <td>4.0</td>\n",
       "      <td>3</td>\n",
       "      <td>12</td>\n",
       "      <td>...</td>\n",
       "      <td>1999</td>\n",
       "      <td>98033</td>\n",
       "      <td>47.6767</td>\n",
       "      <td>-122.211</td>\n",
       "      <td>3430</td>\n",
       "      <td>26788</td>\n",
       "      <td>2020</td>\n",
       "      <td>42052.5</td>\n",
       "      <td>96120</td>\n",
       "      <td>26.25</td>\n",
       "    </tr>\n",
       "    <tr>\n",
       "      <th>1313</th>\n",
       "      <td>5300000.0</td>\n",
       "      <td>6</td>\n",
       "      <td>6.00</td>\n",
       "      <td>7390</td>\n",
       "      <td>24829</td>\n",
       "      <td>2.0</td>\n",
       "      <td>1.0</td>\n",
       "      <td>0.0</td>\n",
       "      <td>4</td>\n",
       "      <td>12</td>\n",
       "      <td>...</td>\n",
       "      <td>1991</td>\n",
       "      <td>98040</td>\n",
       "      <td>47.5631</td>\n",
       "      <td>-122.210</td>\n",
       "      <td>4320</td>\n",
       "      <td>24619</td>\n",
       "      <td>2390</td>\n",
       "      <td>44340.0</td>\n",
       "      <td>88680</td>\n",
       "      <td>36.00</td>\n",
       "    </tr>\n",
       "    <tr>\n",
       "      <th>1446</th>\n",
       "      <td>5350000.0</td>\n",
       "      <td>5</td>\n",
       "      <td>5.00</td>\n",
       "      <td>8000</td>\n",
       "      <td>23985</td>\n",
       "      <td>2.0</td>\n",
       "      <td>0.0</td>\n",
       "      <td>4.0</td>\n",
       "      <td>3</td>\n",
       "      <td>12</td>\n",
       "      <td>...</td>\n",
       "      <td>2009</td>\n",
       "      <td>98004</td>\n",
       "      <td>47.6232</td>\n",
       "      <td>-122.220</td>\n",
       "      <td>4600</td>\n",
       "      <td>21750</td>\n",
       "      <td>1280</td>\n",
       "      <td>40000.0</td>\n",
       "      <td>96000</td>\n",
       "      <td>25.00</td>\n",
       "    </tr>\n",
       "  </tbody>\n",
       "</table>\n",
       "<p>3 rows × 22 columns</p>\n",
       "</div>"
      ],
      "text/plain": [
       "          price  bedrooms  bathrooms  sqft_living  sqft_lot  floors  \\\n",
       "1162  5110000.0         5       5.25         8010     45517     2.0   \n",
       "1313  5300000.0         6       6.00         7390     24829     2.0   \n",
       "1446  5350000.0         5       5.00         8000     23985     2.0   \n",
       "\n",
       "      waterfront  view  condition  grade  ...  yr_built  zipcode      lat  \\\n",
       "1162         1.0   4.0          3     12  ...      1999    98033  47.6767   \n",
       "1313         1.0   0.0          4     12  ...      1991    98040  47.5631   \n",
       "1446         0.0   4.0          3     12  ...      2009    98004  47.6232   \n",
       "\n",
       "         long  sqft_living15  sqft_lot15  area_basement  living*bath  \\\n",
       "1162 -122.211           3430       26788           2020      42052.5   \n",
       "1313 -122.210           4320       24619           2390      44340.0   \n",
       "1446 -122.220           4600       21750           1280      40000.0   \n",
       "\n",
       "      living*grade  bath*bed  \n",
       "1162         96120     26.25  \n",
       "1313         88680     36.00  \n",
       "1446         96000     25.00  \n",
       "\n",
       "[3 rows x 22 columns]"
      ]
     },
     "execution_count": 177,
     "metadata": {},
     "output_type": "execute_result"
    }
   ],
   "source": [
    "df_4.loc[df_4['price'] > 5000000]"
   ]
  },
  {
   "cell_type": "code",
   "execution_count": null,
   "metadata": {},
   "outputs": [],
   "source": []
  },
  {
   "cell_type": "code",
   "execution_count": null,
   "metadata": {
    "jupyter": {
     "source_hidden": true
    },
    "tags": []
   },
   "outputs": [],
   "source": []
  },
  {
   "cell_type": "markdown",
   "metadata": {},
   "source": [
    "---\n",
    "### Functions used in this project\n",
    "\n",
    "#### Linear regression function"
   ]
  },
  {
   "cell_type": "code",
   "execution_count": 207,
   "metadata": {},
   "outputs": [],
   "source": [
    "'''\n",
    "The code to run simple and multiple linear regressions was adopted from Joel Collins.\n",
    "The name stands for \"multiple regression model\"\n",
    "\n",
    "'''\n",
    "\n",
    "def mrmodel(X_train, X_test, y_train, y_test, features):\n",
    "    '''\n",
    "    Inputs:\n",
    "    Takes output from train_test_split (X_train, etc.) AND a list of features to be run by the model.\n",
    "    \n",
    "    Implementation:\n",
    "    To use the function, only change the features & rely on inputs from X_train, etc.\n",
    "    '''\n",
    "    # Isolate the features for the model\n",
    "    model_train = X_train[features]\n",
    "    model_test = X_test[features]\n",
    "    \n",
    "    # Initialize a model\n",
    "    model = LinearRegression()\n",
    "    \n",
    "    # Fit the model\n",
    "    model.fit(model_train, y_train)\n",
    "    \n",
    "    # Generate training and test predictions\n",
    "    train_preds = model.predict(model_train)\n",
    "    test_preds = model.predict(model_test)\n",
    "    \n",
    "    # Calculate training and test error\n",
    "    train_error = mean_squared_error(y_train, train_preds, squared=False)\n",
    "    test_error = mean_squared_error(y_test, test_preds, squared=False)\n",
    "    \n",
    "    # return results\n",
    "    difference = test_error - train_error\n",
    "    print('train error', train_error)\n",
    "    print('test error', test_error)\n",
    "    print(f'difference: {difference}')\n",
    "\n",
    "    r_sq = model.score(model_train, y_train)\n",
    "    print('coefficient of determination:', r_sq)\n",
    "    print('intercept:', model.intercept_)\n",
    "    model_info = pd.DataFrame([('intercept', model.intercept_)] + list(zip(model_train.columns, model.coef_)), columns=['feature', 'weight'])\n",
    "    \n",
    "    print(model_info)\n",
    "    return model, model_train, model_test\n",
    "    #note: this produces an array of outputs that need to be indexed in subsequent functions"
   ]
  },
  {
   "cell_type": "markdown",
   "metadata": {},
   "source": [
    "### residualizer function"
   ]
  },
  {
   "cell_type": "code",
   "execution_count": 208,
   "metadata": {},
   "outputs": [],
   "source": [
    "'''\n",
    "The code to plot residual plots & histograms following multiple linear regressions was adopted from Yellowbrick:\n",
    "https://www.scikit-yb.org/en/latest/api/regressor/residuals.html\n",
    "this requires the yellowbrick api, which is called by...\n",
    "from yellowbrick.regressor import ResidualsPlot\n",
    "'''\n",
    "def residualizer(model, model_train, model_test, y_train, y_test):\n",
    "    '''\n",
    "    Inputs:\n",
    "    Can either take output from mrmodel (X_train, etc.) or user specified input following the execution of a \n",
    "    simple or multiple linear regression.\n",
    "    \n",
    "    Implementation:\n",
    "    To use the function, specify the model named in the LinearRegression step, as well as outputs from the regression,\n",
    "    including the X_train (called model_train), X_test (called model_test), y_train, and y_test.\n",
    "    '''\n",
    "    # Instantiate the visualizer\n",
    "    visualizer = ResidualsPlot(model, hist = True, qqplot=False)\n",
    "    visualizer.fit(model_train, y_train)  # Fit the training data to the visualizer\n",
    "    visualizer.score(model_test, y_test)  # Evaluate the model on the test data\n",
    "    return visualizer.show()                 # Finalize and render the figure"
   ]
  },
  {
   "cell_type": "markdown",
   "metadata": {},
   "source": [
    "### plot bins function"
   ]
  },
  {
   "cell_type": "code",
   "execution_count": 209,
   "metadata": {},
   "outputs": [],
   "source": [
    "'''\n",
    "This function is designed to break up the target (price, in our case) into a user-defined number of bins (default = 10),\n",
    "estimate the model residual error (unstandardized), and ploth both the mean and std error of the model error estimates\n",
    "across each of the bins. This represents model performance across a range of the target, and is helpful in diagnosis.\n",
    "'''\n",
    "def plot_bins(model, X, y, bins=10, title='binned error'):\n",
    "    '''\n",
    "    Inputs:\n",
    "    Can either take output from mrmodel (X_train, etc.) or user specified input following the execution of a \n",
    "    simple or multiple linear regression.\n",
    "    \n",
    "    Implementation:\n",
    "    To use the function, specify the model named in the LinearRegression step, as well as outputs from the regression,\n",
    "    including the X and y specified for the initial model.\n",
    "    '''\n",
    "    q=pd.qcut(y, bins) #magical pandas function, makes quantiles (10 in this case)\n",
    "    frame=pd.DataFrame(q) #takes cuts into a df so you can do groupby later\n",
    "    frame['error']=model.predict(X)-y #estimates error\n",
    "    frame.columns = ['bins', 'errors'] #reset column names\n",
    "    avg=frame.groupby('bins').mean()\n",
    "    avg['std']=frame.groupby('bins').std().iloc[:,0]\n",
    "    avg.rename(columns={'bins':'mean'}, inplace=True)\n",
    "    avg.plot(kind='bar', figsize=(15,6), title=title)"
   ]
  },
  {
   "cell_type": "markdown",
   "metadata": {},
   "source": [
    "### sale_reg function: packages and deploys the previous 3 functions for ease in modeling"
   ]
  },
  {
   "cell_type": "code",
   "execution_count": 210,
   "metadata": {
    "tags": []
   },
   "outputs": [],
   "source": [
    "'''\n",
    "This function is designed to deploy all 3 mr functions in one step.\n",
    "'''\n",
    "def sale_reg(X_train, X_test, y_train, y_test, features):\n",
    "    '''\n",
    "    Inputs:\n",
    "    Can either take output from mrmodel (X_train, etc.) or user specified input following the execution of a \n",
    "    simple or multiple linear regression.\n",
    "    \n",
    "    Implementation:\n",
    "    To use the function, specify the features listed in the LinearRegression step, as well as the X_train, etc. \n",
    "    specified for the model.\n",
    "    '''\n",
    "    mrmodel_outputs = mrmodel(X_train, X_test, y_train, y_test, features) #saves the 3 outputs of mrmodel\n",
    "    residualizer(mrmodel_outputs[0], mrmodel_outputs[1], mrmodel_outputs[2], y_train, y_test)\n",
    "    plot_bins(mrmodel_outputs[0], mrmodel_outputs[2], y_test)\n",
    "    \n",
    "    #note the indexing needed to access the output from mrmodel"
   ]
  },
  {
   "cell_type": "markdown",
   "metadata": {},
   "source": [
    "---\n",
    "### Model 9: iterative modeling to remove poor predictors and simplify model"
   ]
  },
  {
   "cell_type": "markdown",
   "metadata": {},
   "source": [
    "> In our final model, we attempted to remove the features with the lowest predictive power from Model 6 to see if we could make a more interpretable model while still retaining adequate explanatory power (r^2 > 0.7)."
   ]
  },
  {
   "cell_type": "code",
   "execution_count": 211,
   "metadata": {},
   "outputs": [],
   "source": [
    "#set X & y variables\n",
    "# ~~~~~~~~~~~~based on model 6 & df_3~~~~~~~~~~~~~~~~\n",
    "\n",
    "X = df_3.drop(['price'], axis = 1)\n",
    "y = df_3['price']"
   ]
  },
  {
   "cell_type": "code",
   "execution_count": 212,
   "metadata": {},
   "outputs": [],
   "source": [
    "#train_test_split\n",
    "X_train, X_test, y_train, y_test = train_test_split(X, y, test_size=0.30, random_state=2021)"
   ]
  },
  {
   "cell_type": "code",
   "execution_count": 215,
   "metadata": {},
   "outputs": [
    {
     "name": "stdout",
     "output_type": "stream",
     "text": [
      "train error 191327.77098765134\n",
      "test error 190102.5441177374\n",
      "difference: -1225.2268699139531\n",
      "coefficient of determination: 0.7281954061370903\n",
      "intercept: 11894905.304708397\n",
      "        feature        weight\n",
      "0     intercept  1.189491e+07\n",
      "1      bedrooms -1.840963e+04\n",
      "2   sqft_living  1.356097e+02\n",
      "3        floors  3.001725e+04\n",
      "4     condition  3.383722e+04\n",
      "5         grade -3.348438e+04\n",
      "6      yr_built -2.250767e+03\n",
      "7       zipcode -6.038418e+02\n",
      "8    grade*bath  6.078697e+04\n",
      "9           lat  6.081349e+05\n",
      "10   waterfront  5.855069e+05\n",
      "11         long -1.891787e+05\n",
      "12         view  5.223567e+04\n",
      "13    bathrooms -4.257554e+05\n"
     ]
    },
    {
     "data": {
      "image/png": "[encoded data removed]",
      "text/plain": [
       "<Figure size 432x288 with 2 Axes>"
      ]
     },
     "metadata": {
      "needs_background": "light"
     },
     "output_type": "display_data"
    },
    {
     "data": {
      "image/png": "[encoded data removed]",
      "text/plain": [
       "<Figure size 1080x432 with 1 Axes>"
      ]
     },
     "metadata": {
      "needs_background": "light"
     },
     "output_type": "display_data"
    }
   ],
   "source": [
    "model_features = ['bedrooms', 'sqft_living', 'floors', 'condition', 'grade', 'yr_built', 'zipcode', 'grade*bath', \n",
    "         'lat', 'waterfront', 'long', 'view','bathrooms']\n",
    "#remove 'living*grade', 'living*bath', 'sqft_lot15', 'sqft_living15', 'sqft_lot', 'area_basement', 'sqft_above', \n",
    "model_9_results = sale_reg(X_train, X_test, y_train, y_test, model_features)\n",
    "model_9_results"
   ]
  },
  {
   "cell_type": "code",
   "execution_count": 227,
   "metadata": {},
   "outputs": [
    {
     "data": {
      "text/plain": [
       "(21389, 22)"
      ]
     },
     "execution_count": 227,
     "metadata": {},
     "output_type": "execute_result"
    }
   ],
   "source": [
    "#make a new df to work with out of habit\n",
    "df_5 = df_3.copy()\n",
    "df_5 = df_5.drop(['id', 'date', 'yr_renovated'], axis=1)\n",
    "\n",
    "df_5 = df_5.loc[df_5['price'] < 2000000]\n",
    "\n",
    "df_5.shape"
   ]
  },
  {
   "cell_type": "code",
   "execution_count": 228,
   "metadata": {},
   "outputs": [],
   "source": [
    "#set X & y variables\n",
    "X = df_5.drop(['price'], axis = 1)\n",
    "y = df_5['price']"
   ]
  },
  {
   "cell_type": "code",
   "execution_count": 229,
   "metadata": {},
   "outputs": [],
   "source": [
    "#train_test_split\n",
    "X_train, X_test, y_train, y_test = train_test_split(X, y, test_size=0.30, random_state=2021)"
   ]
  },
  {
   "cell_type": "code",
   "execution_count": 230,
   "metadata": {},
   "outputs": [],
   "source": [
    "# Instantiate PolynomialFeatures\n",
    "poly = PolynomialFeatures(2)\n",
    "\n",
    "# Fit and transform X_train\n",
    "X_poly_fit = poly.fit(X_train)\n",
    "X_poly_train = poly.transform(X_train)\n",
    "feature_choice = poly.get_feature_names(df_4.columns)\n",
    "    \n",
    "# Instantiate and fit a linear regression model to the polynomial transformed train features\n",
    "reg_poly = LinearRegression().fit(X_poly_train, y_train)\n",
    "    \n",
    "# Transform the test data into polynomial features\n",
    "X_poly_test = poly.transform(X_test)\n",
    "    \n",
    "# Get predicted values for transformed polynomial test data  \n",
    "y_pred = reg_poly.predict(X_poly_test)\n",
    "    \n",
    "# Evaluate model performance on test data\n",
    "r_sq = r2_score(y_test, y_pred)\n",
    "    \n",
    "# Transform the full data\n",
    "X_poly = poly.transform(X)\n",
    "    \n",
    "# Now, we want to see what the model predicts for the entire data  \n",
    "y_poly = reg_poly.predict(X_poly)"
   ]
  },
  {
   "cell_type": "code",
   "execution_count": 231,
   "metadata": {},
   "outputs": [
    {
     "name": "stdout",
     "output_type": "stream",
     "text": [
      "train error 128101.75401759296\n",
      "test error 132335.11595828785\n",
      "difference: 4233.361940694886\n",
      "coefficient of determination: 0.7866631620252547\n",
      "intercept: 45870293084.205185\n"
     ]
    }
   ],
   "source": [
    "#interpret the error & fit of the model\n",
    "train_preds = reg_poly.predict(X_poly_train)\n",
    "test_preds = reg_poly.predict(X_poly_test)\n",
    "\n",
    "train_error = mean_squared_error(y_train, train_preds, squared=False)\n",
    "test_error = mean_squared_error(y_test, test_preds, squared=False)\n",
    "print('train error', train_error)\n",
    "print('test error', test_error)\n",
    "difference = test_error - train_error\n",
    "print(f'difference: {difference}')\n",
    "\n",
    "print('coefficient of determination:', r_sq)\n",
    "print('intercept:', reg_poly.intercept_)\n",
    "#intercept: 5.633333333333329\n",
    "#print('slopes:', reg_poly.coef_) #note that these terms were not reported here for brevity"
   ]
  },
  {
   "cell_type": "code",
   "execution_count": 232,
   "metadata": {},
   "outputs": [
    {
     "data": {
      "image/png": "[encoded data removed]",
      "text/plain": [
       "<Figure size 432x288 with 2 Axes>"
      ]
     },
     "metadata": {
      "needs_background": "light"
     },
     "output_type": "display_data"
    },
    {
     "data": {
      "text/plain": [
       "<AxesSubplot:title={'center':'Residuals for LinearRegression Model'}, xlabel='Predicted Value', ylabel='Residuals'>"
      ]
     },
     "execution_count": 232,
     "metadata": {},
     "output_type": "execute_result"
    }
   ],
   "source": [
    "# Instantiate the visualizer\n",
    "visualizer = ResidualsPlot(reg_poly)\n",
    "visualizer.fit(X_poly_train, y_train)  # Fit the training data to the visualizer\n",
    "visualizer.score(X_poly_test, y_test)  # Evaluate the model on the test data\n",
    "visualizer.show()                 # Finalize and render the figure"
   ]
  },
  {
   "cell_type": "code",
   "execution_count": 233,
   "metadata": {},
   "outputs": [
    {
     "data": {
      "image/png": "[encoded data removed]",
      "text/plain": [
       "<Figure size 1080x432 with 1 Axes>"
      ]
     },
     "metadata": {
      "needs_background": "light"
     },
     "output_type": "display_data"
    }
   ],
   "source": [
    "#Plot bins here\n",
    "np.reshape(feature_choice, (-1, 1)) \n",
    "plot_bins(reg_poly, X_poly_test, y_test)"
   ]
  },
  {
   "cell_type": "code",
   "execution_count": null,
   "metadata": {},
   "outputs": [],
   "source": []
  }
 ],
 "metadata": {
  "kernelspec": {
   "display_name": "Python 3",
   "language": "python",
   "name": "python3"
  },
  "language_info": {
   "codemirror_mode": {
    "name": "ipython",
    "version": 3
   },
   "file_extension": ".py",
   "mimetype": "text/x-python",
   "name": "python",
   "nbconvert_exporter": "python",
   "pygments_lexer": "ipython3",
   "version": "3.8.5"
  }
 },
 "nbformat": 4,
 "nbformat_minor": 4
}
